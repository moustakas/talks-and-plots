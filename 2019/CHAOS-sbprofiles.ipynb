{
 "cells": [
  {
   "cell_type": "markdown",
   "metadata": {},
   "source": [
    "# CHAOS Stellar Mass Density Profiles\n",
    "\n",
    "* [NGC0628](http://legacysurvey.org/viewer-dev?ra=24.1741665&dec=15.7834583&zoom=12&layer=decals-dr7&lslga)\n",
    "* [NGC5194](http://legacysurvey.org/viewer-dev?ra=202.469547&dec=47.195151&zoom=11&layer=mzls+bass-dr6&lslga)\n",
    "* [NGC5457](http://legacysurvey.org/viewer-dev?ra=210.802368&dec=54.349023&zoom=10&layer=mzls+bass-dr6&lslga)\n",
    "* [NGC3184](http://legacysurvey.org/viewer-dev?ra=154.570590&dec=41.4243426&zoom=12&layer=mzls+bass-dr6&lslga)"
   ]
  },
  {
   "cell_type": "code",
   "execution_count": 24,
   "metadata": {},
   "outputs": [],
   "source": [
    "import os, pdb\n",
    "import numpy as np\n",
    "import numpy.ma as ma\n",
    "import matplotlib.pyplot as plt\n",
    "import fitsio\n",
    "from astropy.table import Column"
   ]
  },
  {
   "cell_type": "code",
   "execution_count": 25,
   "metadata": {},
   "outputs": [],
   "source": [
    "import LSLGA.io\n",
    "import LSLGA.misc\n",
    "import LSLGA.qa"
   ]
  },
  {
   "cell_type": "code",
   "execution_count": 26,
   "metadata": {},
   "outputs": [],
   "source": [
    "import multiprocessing\n",
    "nproc = multiprocessing.cpu_count() // 2"
   ]
  },
  {
   "cell_type": "code",
   "execution_count": 27,
   "metadata": {},
   "outputs": [],
   "source": [
    "%matplotlib inline"
   ]
  },
  {
   "cell_type": "markdown",
   "metadata": {},
   "source": [
    "#### Specify the (SDSS) bands, the pixel scale, and the top-level data directory."
   ]
  },
  {
   "cell_type": "code",
   "execution_count": 28,
   "metadata": {},
   "outputs": [],
   "source": [
    "pixscale = 0.396 # [arcsec/pix]\n",
    "band = ('g', 'r', 'i')"
   ]
  },
  {
   "cell_type": "code",
   "execution_count": 29,
   "metadata": {},
   "outputs": [],
   "source": [
    "datadir = os.path.join( LSLGA.io.LSLGA_dir(), 'science', 'chaos' )"
   ]
  },
  {
   "cell_type": "markdown",
   "metadata": {},
   "source": [
    "#### Read the sample.\n",
    "Add some additional data we'll need to the output table."
   ]
  },
  {
   "cell_type": "code",
   "execution_count": 30,
   "metadata": {},
   "outputs": [],
   "source": [
    "def read_chaos(band=('g', 'r', 'i'), psfsize=1.3):\n",
    "    \"\"\"PSF size in FWHM arcsec is assumed to be constant.\n",
    "    \n",
    "    \"\"\"\n",
    "    sample = LSLGA.io.read_parent()\n",
    "    these = np.hstack( [np.where(np.isin(sample['GALAXY'].data, chaosgal.encode('utf-8')))[0]\n",
    "                        for chaosgal in ('NGC0628', 'NGC5194', 'NGC5457', 'NGC3184')] )\n",
    "    sample = sample[these]\n",
    "\n",
    "    # Add distances, the data release, the PSF widths, and the cutout size.\n",
    "    sample.add_column(Column(name='DISTANCE', length=len(sample), dtype='f4'))\n",
    "    dist = {'NGC0628': 7.2, 'NGC5194': 7.9, 'NGC5457': 7.4, 'NGC3184': 11.6} # [Mpc]    \n",
    "    for ss in sample:\n",
    "        ss['DISTANCE'] = dist[ss['GALAXY']] # [Mpc]\n",
    "        \n",
    "    sample.add_column(Column(name='DR', dtype='S3', length=len(sample)))\n",
    "    gal2dr = {'NGC0628': 'DR7', 'NGC5194': 'DR6', 'NGC5457': 'DR6', 'NGC3184': 'DR6'}\n",
    "    for ss in sample:\n",
    "        ss['DR'] = gal2dr[ss['GALAXY']]\n",
    "        \n",
    "    # Cutout size (SDSS pixels).\n",
    "    sample.add_column(Column(name='CUTOUT_SIZE', length=len(sample), dtype='i2'))\n",
    "    gal2size = {'NGC0628': 2000, 'NGC5194': 2000, 'NGC5457': 3000, 'NGC3184': 1500}\n",
    "    for ss in sample:\n",
    "        ss['CUTOUT_SIZE'] = gal2size[ss['GALAXY']] # [SDSS pixels]\n",
    "        \n",
    "    # Add PSF width (nominal) and Galactic extinction values.\n",
    "    for filt in band:\n",
    "        sample['PSFSIZE_{}'.format(filt.upper())] = np.repeat(psfsize, len(sample))\n",
    "    for filt in band:\n",
    "        sample['MWDUST_A{}'.format(filt.upper())] = np.repeat(0.0, len(sample)) # initialize\n",
    "    \n",
    "    gal2dust = {'NGC0628': (0.232, 0.16, 0.119), # gri\n",
    "                'NGC5194': (0.116, 0.08, 0.06), \n",
    "                'NGC5457': (0.028, 0.02, 0.015),\n",
    "                'NGC3184': (0.055, 0.038, 0.028)}\n",
    "    for ss in sample:\n",
    "        for ii, filt in enumerate(band):\n",
    "            ss['MWDUST_A{}'.format(filt.upper())] = gal2dust[ss['GALAXY']][ii]\n",
    "        \n",
    "    # Fix the radius and position angle of NGC5194\n",
    "    #sample[]\n",
    "        \n",
    "    return sample"
   ]
  },
  {
   "cell_type": "code",
   "execution_count": 31,
   "metadata": {},
   "outputs": [
    {
     "data": {
      "text/html": [
       "<i>Table length=4</i>\n",
       "<table id=\"table112321140720\" class=\"table-striped table-bordered table-condensed\">\n",
       "<thead><tr><th>LSLGA_ID</th><th>GALAXY</th><th>PGC</th><th>RA</th><th>DEC</th><th>TYPE</th><th>BAR</th><th>RING</th><th>MULTIPLE</th><th>COMPACTNESS</th><th>T</th><th>PA</th><th>D25</th><th>BA</th><th>DIAM_REF</th><th>Z</th><th>SB_D25</th><th>MAG</th><th>MAG_REF</th><th>WISE_RA</th><th>WISE_DEC</th><th>CNTR</th><th>W1MPRO</th><th>W1SIGMPRO</th><th>W2MPRO</th><th>W2SIGMPRO</th><th>W3MPRO</th><th>W3SIGMPRO</th><th>W4MPRO</th><th>W4SIGMPRO</th><th>RCHI2</th><th>CC_FLAGS</th><th>EXT_FLG</th><th>PH_QUAL</th><th>XSCPROX</th><th>W1RSEMI</th><th>W1BA</th><th>W1PA</th><th>W1GMAG</th><th>W1GERR</th><th>W2GMAG</th><th>W2GERR</th><th>W3GMAG</th><th>W3GERR</th><th>W4GMAG</th><th>W4GERR</th><th>IN_ALLWISE</th><th>IN_DESI</th><th>NEAR_BRIGHTSTAR</th><th>DISTANCE</th><th>DR</th><th>CUTOUT_SIZE</th><th>PSFSIZE_G</th><th>PSFSIZE_R</th><th>PSFSIZE_I</th><th>MWDUST_AG</th><th>MWDUST_AR</th><th>MWDUST_AI</th></tr></thead>\n",
       "<thead><tr><th>int64</th><th>bytes29</th><th>int64</th><th>float64</th><th>float64</th><th>bytes4</th><th>bytes3</th><th>bytes3</th><th>bytes3</th><th>bytes3</th><th>float32</th><th>float32</th><th>float32</th><th>float32</th><th>bytes3</th><th>float32</th><th>float32</th><th>float32</th><th>bytes1</th><th>float64</th><th>float64</th><th>int64</th><th>float64</th><th>float64</th><th>float64</th><th>float64</th><th>float64</th><th>float64</th><th>float64</th><th>float64</th><th>float32</th><th>bytes4</th><th>int32</th><th>bytes4</th><th>float64</th><th>float64</th><th>float64</th><th>float64</th><th>float64</th><th>float64</th><th>float64</th><th>float64</th><th>float64</th><th>float64</th><th>float64</th><th>float64</th><th>bool</th><th>bool</th><th>bool</th><th>float32</th><th>bytes3</th><th>int16</th><th>float64</th><th>float64</th><th>float64</th><th>float64</th><th>float64</th><th>float64</th></tr></thead>\n",
       "<tr><td>518063</td><td>NGC0628</td><td>5974</td><td>24.174166500000002</td><td>15.783458300000001</td><td>Sc</td><td>nan</td><td>nan</td><td>nan</td><td>nan</td><td>5.2</td><td>nan</td><td>9.88553</td><td>0.94406086</td><td>iso</td><td>0.002196186</td><td>23.308481</td><td>9.705</td><td>B</td><td>24.1741387</td><td>15.7836868</td><td>234115101351047933</td><td>10.655</td><td>0.023</td><td>10.695</td><td>0.023</td><td>9.342</td><td>0.074</td><td>8.271</td><td>0.374</td><td>32.27</td><td>0000</td><td>5</td><td>AAAC</td><td>0.87</td><td>126.96</td><td>0.95</td><td>70.0</td><td>7.093</td><td>0.01</td><td>6.986</td><td>0.011</td><td>3.632</td><td>0.01</td><td>1.76</td><td>0.015</td><td>True</td><td>True</td><td>False</td><td>7.2</td><td>DR7</td><td>2000</td><td>1.3</td><td>1.3</td><td>1.3</td><td>0.232</td><td>0.16</td><td>0.119</td></tr>\n",
       "<tr><td>1073844</td><td>NGC5194</td><td>47404</td><td>202.469547</td><td>47.195151</td><td>SABb</td><td>B</td><td>nan</td><td>M</td><td>nan</td><td>4.0</td><td>163.0</td><td>13.708821</td><td>0.85113806</td><td>iso</td><td>0.0015370633</td><td>22.921482</td><td>8.608</td><td>B</td><td>202.4696996</td><td>47.1951717</td><td>2029146901351042304</td><td>8.84</td><td>0.024</td><td>8.664</td><td>0.02</td><td>6.19</td><td>0.023</td><td>3.386</td><td>0.036</td><td>46.18</td><td>hhdd</td><td>5</td><td>AAAA</td><td>0.43</td><td>180.0</td><td>0.91</td><td>45.0</td><td>5.43</td><td>0.014</td><td>5.404</td><td>0.006</td><td>1.509</td><td>0.006</td><td>-0.28</td><td>0.03</td><td>True</td><td>True</td><td>False</td><td>7.9</td><td>DR6</td><td>2000</td><td>1.3</td><td>1.3</td><td>1.3</td><td>0.116</td><td>0.08</td><td>0.06</td></tr>\n",
       "<tr><td>1237406</td><td>NGC5457</td><td>50063</td><td>210.80236799999997</td><td>54.349022999999995</td><td>SABc</td><td>B</td><td>nan</td><td>M</td><td>nan</td><td>5.9</td><td>nan</td><td>23.988337</td><td>0.9616123</td><td>iso</td><td>0.0007902133</td><td>23.88948</td><td>8.361</td><td>B</td><td>210.8021726</td><td>54.3487903</td><td>2119154501351013505</td><td>10.348</td><td>0.023</td><td>10.213</td><td>0.021</td><td>6.624</td><td>0.018</td><td>4.453</td><td>0.029</td><td>33.86</td><td>0000</td><td>5</td><td>AAAA</td><td>0.56</td><td>180.0</td><td>0.98</td><td>28.0</td><td>6.751</td><td>0.019</td><td>6.704</td><td>0.019</td><td>3.397</td><td>0.024</td><td>1.778</td><td>0.104</td><td>True</td><td>True</td><td>False</td><td>7.4</td><td>DR6</td><td>3000</td><td>1.3</td><td>1.3</td><td>1.3</td><td>0.028</td><td>0.02</td><td>0.015</td></tr>\n",
       "<tr><td>1253132</td><td>NGC3184</td><td>30087</td><td>154.57058999999998</td><td>41.4243426</td><td>SABc</td><td>B</td><td>nan</td><td>nan</td><td>nan</td><td>5.9</td><td>nan</td><td>7.396052</td><td>0.97050995</td><td>iso</td><td>0.0019753666</td><td>23.384481</td><td>10.411</td><td>B</td><td>154.5705508</td><td>41.424279</td><td>1542140801351054772</td><td>10.97</td><td>0.023</td><td>10.88</td><td>0.021</td><td>7.418</td><td>0.021</td><td>4.711</td><td>0.03</td><td>23.9</td><td>0000</td><td>5</td><td>AAAA</td><td>0.69</td><td>115.66</td><td>0.97</td><td>60.0</td><td>7.652</td><td>0.011</td><td>7.517</td><td>0.011</td><td>4.133</td><td>0.008</td><td>2.339</td><td>0.017</td><td>True</td><td>True</td><td>False</td><td>11.6</td><td>DR6</td><td>1500</td><td>1.3</td><td>1.3</td><td>1.3</td><td>0.055</td><td>0.038</td><td>0.028</td></tr>\n",
       "</table>"
      ],
      "text/plain": [
       "<Table length=4>\n",
       "LSLGA_ID  GALAXY  PGC          RA         ... MWDUST_AG MWDUST_AR MWDUST_AI\n",
       " int64   bytes29 int64      float64       ...  float64   float64   float64 \n",
       "-------- ------- ----- ------------------ ... --------- --------- ---------\n",
       "  518063 NGC0628  5974 24.174166500000002 ...     0.232      0.16     0.119\n",
       " 1073844 NGC5194 47404         202.469547 ...     0.116      0.08      0.06\n",
       " 1237406 NGC5457 50063 210.80236799999997 ...     0.028      0.02     0.015\n",
       " 1253132 NGC3184 30087 154.57058999999998 ...     0.055     0.038     0.028"
      ]
     },
     "execution_count": 31,
     "metadata": {},
     "output_type": "execute_result"
    }
   ],
   "source": [
    "sample = read_chaos(band=band)\n",
    "sample"
   ]
  },
  {
   "cell_type": "markdown",
   "metadata": {},
   "source": [
    "#### Download the SDSS imaging (if necessary)."
   ]
  },
  {
   "cell_type": "code",
   "execution_count": 32,
   "metadata": {},
   "outputs": [],
   "source": [
    "def download_data(sample, pixscale=0.396, clobber=False):\n",
    "    \"\"\"Note that the cutout server has a maximum cutout size of 3000 pixels.\n",
    "    \n",
    "    montage -bordercolor white -borderwidth 1 -tile 2x2 -geometry +0+0 -resize 512 \\\n",
    "      NGC0628-SDSS.jpg NGC3184-SDSS.jpg NGC5194-SDSS.jpg NGC5457-SDSS.jpg chaos-montage.png\n",
    "    \"\"\"\n",
    "    import subprocess\n",
    "    \n",
    "    for ss in sample:\n",
    "        jpgfile = os.path.join(datadir, '{}-SDSS.jpg'.format(ss['GALAXY']))\n",
    "        fitsfile = jpgfile.replace('.jpg', '.fits')\n",
    "        if os.path.exists(jpgfile) and clobber is False:\n",
    "            print('Done: {}'.format(jpgfile))\n",
    "        else:\n",
    "            cmd = 'wget -c -O {outfile}'\n",
    "            cmd += '\"http://legacysurvey.org/viewer/jpeg-cutout?ra={ra}dec={dec}&pixscale={pixscale}&size={size}&layer=sdss\"'\n",
    "            cmd = cmd.format(outfile=jpgfile, ra=ss['RA'], dec=ss['DEC'],\n",
    "                             pixscale=pixscale, size=ss['CUTOUT_SIZE'])\n",
    "            print(cmd)\n",
    "            err = subprocess.call(cmd.split())\n",
    "            \n",
    "        if os.path.isfile(fitsfile) or not clobber:\n",
    "            print('Done: {}'.format(fitsfile))\n",
    "        else:\n",
    "            cmd = cmd.replace('jpeg-cutout', 'fits-cutout')\n",
    "            print(cmd)\n",
    "            err = subprocess.call(cmd.split())"
   ]
  },
  {
   "cell_type": "code",
   "execution_count": 33,
   "metadata": {},
   "outputs": [
    {
     "name": "stdout",
     "output_type": "stream",
     "text": [
      "Done: /Users/ioannis/research/projects/LSLGA/science/chaos/NGC0628-SDSS.jpg\n",
      "Done: /Users/ioannis/research/projects/LSLGA/science/chaos/NGC0628-SDSS.fits\n",
      "Done: /Users/ioannis/research/projects/LSLGA/science/chaos/NGC5194-SDSS.jpg\n",
      "Done: /Users/ioannis/research/projects/LSLGA/science/chaos/NGC5194-SDSS.fits\n",
      "Done: /Users/ioannis/research/projects/LSLGA/science/chaos/NGC5457-SDSS.jpg\n",
      "Done: /Users/ioannis/research/projects/LSLGA/science/chaos/NGC5457-SDSS.fits\n",
      "Done: /Users/ioannis/research/projects/LSLGA/science/chaos/NGC3184-SDSS.jpg\n",
      "Done: /Users/ioannis/research/projects/LSLGA/science/chaos/NGC3184-SDSS.fits\n"
     ]
    }
   ],
   "source": [
    "download_data(sample, pixscale=pixscale)"
   ]
  },
  {
   "cell_type": "markdown",
   "metadata": {},
   "source": [
    "#### Read the data, do ellipse-fitting, and write out the results."
   ]
  },
  {
   "cell_type": "code",
   "execution_count": 34,
   "metadata": {},
   "outputs": [],
   "source": [
    "def ellipse(xcen, ycen, semia, semib, phi, x, y):\n",
    "    xp = (x-xcen) * np.cos(phi) + (y-ycen) * np.sin(phi)\n",
    "    yp = -(x-xcen) * np.sin(phi) + (y-ycen) * np.cos(phi)\n",
    "    return (xp / semia)**2 + (yp/semib)**2 <= 1"
   ]
  },
  {
   "cell_type": "code",
   "execution_count": 35,
   "metadata": {},
   "outputs": [],
   "source": [
    "def read_multiband(onegal, band=('g', 'r', 'i'), refband='r', \n",
    "                   pixscale=0.396, verbose=False):\n",
    "    \"\"\"Read the multiband data and pack into a dictionary.\n",
    "    \n",
    "    \"\"\"\n",
    "    from astropy.stats import sigma_clipped_stats\n",
    "    from scipy.ndimage.morphology import binary_dilation\n",
    "\n",
    "    galaxy = onegal['GALAXY']\n",
    "    \n",
    "    imgfile = os.path.join(datadir, '{}-SDSS.fits'.format(galaxy))\n",
    "    if verbose:\n",
    "        print('Reading {}'.format(imgfile))\n",
    "    img = fitsio.read(imgfile)\n",
    "    sumimg = np.sum(img, axis=0)\n",
    "    \n",
    "    _, H, W = img.shape\n",
    "    \n",
    "    if galaxy == 'NGC5194':    \n",
    "        #xcen, ycen = 1050, 925\n",
    "        xcen, ycen = 1012, 995\n",
    "        semia = 444 * 1.5\n",
    "        semib = semia * (1 - 0.3)\n",
    "        phi = np.radians(35 + 90)\n",
    "    else:\n",
    "        xcen, ycen = W // 2, H // 2\n",
    "        #semia = 2 * onegal['W1RSEMI'] / pixscale\n",
    "        semia = 0.85 * onegal['D25'] * 60 / 2 / pixscale\n",
    "        semib = semia * onegal['BA']\n",
    "        if np.isfinite(onegal['PA']):\n",
    "            phi = np.radians(onegal['PA'])\n",
    "            #phi = np.radians(onegal['W1PA'])\n",
    "        else:\n",
    "            phi = 0.0\n",
    "\n",
    "    # Mask the main galaxy\n",
    "    ymask, xmask = np.ogrid[0:H, 0:W] # mask the galaxy\n",
    "    galmask = ellipse(xcen, ycen, semia, semib, phi, xmask, ymask)\n",
    "    \n",
    "    if galaxy == 'NGC5194': # also mask NGC5195\n",
    "        xcen2, ycen2, rad2 = 850, 1650, 300\n",
    "        ymask2, xmask2 = np.ogrid[-ycen2:H-ycen2, -xcen2:W-xcen2]\n",
    "        mask2 = (xmask2**2 + ymask2**2) <= rad2**2\n",
    "        mn, med, sig = sigma_clipped_stats(ma.masked_array(\n",
    "            sumimg, np.logical_or(galmask, mask2)), sigma=2.5)\n",
    "        mask = np.logical_or( np.logical_and(np.abs((sumimg - med)) > 2.5 * sig, ~galmask),\n",
    "                              mask2 )\n",
    "    else:\n",
    "        mn, med, sig = sigma_clipped_stats(ma.masked_array(\n",
    "            sumimg, galmask), sigma=2.5)\n",
    "        mask = np.logical_and(np.abs((sumimg - med)) > 2.5 * sig, ~galmask)\n",
    "        \n",
    "    # Now populate the output dictionary\n",
    "    data = dict()\n",
    "    data['band'] = band\n",
    "    data['refband'] = refband\n",
    "    data['pixscale'] = pixscale\n",
    "    \n",
    "    for filt, indx in zip( data['band'], (0, 1, 2) ):\n",
    "        # Correct for dust and convert to surface brightness--\n",
    "        #print(onegal['GALAXY'], filt, 10**(0.4 * onegal['MWDUST_A{}'.format(filt.upper())]))\n",
    "        sbimg = img[indx, :, :] * 10**(0.4 * onegal['MWDUST_A{}'.format(filt.upper())]) / data['pixscale']**2 # [nanomaggies/arcsec2]\n",
    "        data[filt] = sbimg\n",
    "        data['{}_mask'.format(filt)] = mask * 1\n",
    "        data['{}_masked'.format(filt)] = ma.masked_array(sbimg * ~mask, mask)\n",
    "        ma.set_fill_value(data['{}_masked'.format(filt)], 0)\n",
    "        \n",
    "    return data    "
   ]
  },
  {
   "cell_type": "code",
   "execution_count": 36,
   "metadata": {},
   "outputs": [],
   "source": [
    "dd = read_multiband(sample[1])\n",
    "#fitsio.write('junk.fits', dd['r_masked'], clobber=True)\n",
    "#fitsio.write('junk2.fits', dd['r'], clobber=True)\n",
    "#from LSLGA.mge import find_galaxy\n",
    "#find_galaxy(dd['r_masked'], plot=True, quiet=False)"
   ]
  },
  {
   "cell_type": "code",
   "execution_count": 37,
   "metadata": {},
   "outputs": [],
   "source": [
    "def _build_sbprofiles_one(args):\n",
    "    \"\"\"Wrapper function for the multiprocessing.\"\"\"\n",
    "    return build_sbprofiles_one(*args)"
   ]
  },
  {
   "cell_type": "code",
   "execution_count": 38,
   "metadata": {},
   "outputs": [],
   "source": [
    "def build_sbprofiles_one(onegal, band=('g', 'r', 'i'), refband='r', \n",
    "                         pixscale=0.396, clobber=False, verbose=False):\n",
    "    from LSLGA.ellipse import ellipsefit_multiband\n",
    "\n",
    "    galaxy = onegal['GALAXY']\n",
    "    print('Working on {}'.format(galaxy))\n",
    "        \n",
    "    #maxsma = np.round(onegal['CUTOUT_SIZE'] / 2).astype(int)\n",
    "    maxsma = np.round(0.85 * onegal['D25'] * 60 / 2 / pixscale).astype(int) # [pixels]\n",
    "\n",
    "    data = read_multiband(onegal, band=band, refband=refband,\n",
    "                          pixscale=pixscale, verbose=verbose)\n",
    "                \n",
    "    # Read the ellipse-fitting results if they exist, otherwise do the fitting.\n",
    "    ellipsefitfile = os.path.join(datadir, '{}-ellipsefit-fixed.p'.format(galaxy))\n",
    "    if not os.path.exists(ellipsefitfile) or clobber:\n",
    "        ell = ellipsefit_multiband(galaxy, datadir, data, onegal, maxsma=maxsma, \n",
    "                                   noellipsefit=True, verbose=verbose)\n",
    "        LSLGA.io.write_ellipsefit(galaxy, datadir, ell, noellipsefit=True, \n",
    "                                  verbose=verbose)\n",
    "    else:\n",
    "        ell = LSLGA.io.read_ellipsefit(galaxy, datadir, noellipsefit=True, \n",
    "                                       verbose=verbose)\n",
    "    return ell"
   ]
  },
  {
   "cell_type": "code",
   "execution_count": 39,
   "metadata": {},
   "outputs": [],
   "source": [
    "def build_sbprofiles(sample, band=('g', 'r', 'i'), refband='r', \n",
    "                     pixscale=0.396, clobber=False, verbose=False):\n",
    "    \"\"\"Do ellipse-fitting and write out the surface brightness profiles.\n",
    "\n",
    "    \"\"\"\n",
    "    from LSLGA.ellipse import ellipsefit_multiband\n",
    "\n",
    "    sbargs = list()\n",
    "    for onegal in sample:\n",
    "        sbargs.append( (onegal, band, refband, pixscale, clobber, verbose) )\n",
    "\n",
    "    if nproc > 1:\n",
    "        p = multiprocessing.Pool(nproc)\n",
    "        result = p.map(_build_sbprofiles_one, sbargs)\n",
    "        p.close()\n",
    "    else:\n",
    "        result = list()\n",
    "        for args in sbargs:\n",
    "            result.append(_build_sbprofiles_one(sbargs))"
   ]
  },
  {
   "cell_type": "code",
   "execution_count": 40,
   "metadata": {},
   "outputs": [
    {
     "name": "stdout",
     "output_type": "stream",
     "text": [
      "Working on NGC0628\n",
      "Working on NGC5194\n",
      "Working on NGC3184\n",
      "Working on NGC5457\n",
      "Reading /Users/ioannis/research/projects/LSLGA/science/chaos/NGC5194-SDSS.fits\n",
      "Reading /Users/ioannis/research/projects/LSLGA/science/chaos/NGC0628-SDSS.fits\n",
      "Reading /Users/ioannis/research/projects/LSLGA/science/chaos/NGC5457-SDSS.fits\n",
      "Reading /Users/ioannis/research/projects/LSLGA/science/chaos/NGC3184-SDSS.fits\n",
      "Finding the galaxy in the reference r-band image.\n",
      " Pixels used: 213939\n",
      " Peak Img[j, k]: 749 751\n",
      " Mean (j, k): 768.28 738.93\n",
      " Theta (deg): 97.2\n",
      " Astro PA (deg): 172.8\n",
      " Eps: 0.100\n",
      " Major axis (pix): 324.1\n",
      "Finding the galaxy in the reference r-band image.\n",
      "Finding the galaxy in the reference r-band image.\n",
      "Finding the galaxy in the reference r-band image.\n",
      " Pixels used: 311829\n",
      " Peak Img[j, k]: 1000 1000\n",
      " Mean (j, k): 1017.18 989.85\n",
      " Theta (deg): 52.4\n",
      " Astro PA (deg): 37.6\n",
      " Eps: 0.331\n",
      " Major axis (pix): 423.0\n",
      " Pixels used: 366203\n",
      " Peak Img[j, k]: 1001 1001\n",
      " Mean (j, k): 996.89 995.07\n",
      " Theta (deg): 103.1\n",
      " Astro PA (deg): 166.9\n",
      " Eps: 0.143\n",
      " Major axis (pix): 468.2\n",
      " Pixels used: 799594\n",
      " Peak Img[j, k]: 1498 1501\n",
      " Mean (j, k): 1498.64 1510.19\n",
      " Theta (deg): 46.8\n",
      " Astro PA (deg): 43.2\n",
      " Eps: 0.209\n",
      " Major axis (pix): 757.2\n",
      "Ellipse-fitting the reference r-band image.\n",
      "  Trying sma0 = 1.0 pixels.\n",
      "Ellipse-fitting the reference r-band image.\n",
      "  Trying sma0 = 1.0 pixels.\n",
      "Time = 674.081 sec\n",
      "Ellipse-fitting g-band image.\n",
      "Ellipse-fitting the reference r-band image.\n",
      "  Trying sma0 = 1.0 pixels.\n",
      "Time = 652.740 sec\n",
      "Ellipse-fitting i-band image.\n",
      "Time = 1139.140 sec\n",
      "Ellipse-fitting g-band image.\n",
      "Time = 601.206 sec\n",
      "Time for all images = 1253.950 sec\n",
      "Writing /Users/ioannis/research/projects/LSLGA/science/chaos/NGC3184-ellipsefit-fixed.p\n",
      "Writing /Users/ioannis/research/projects/LSLGA/science/chaos/NGC3184-ellipsefit-fixed.p\n",
      "Time = 999.014 sec\n",
      "Ellipse-fitting i-band image.\n",
      "Time = 1903.773 sec\n",
      "Ellipse-fitting g-band image.\n",
      "Time = 904.215 sec\n",
      "Time for all images = 1903.235 sec\n",
      "Writing /Users/ioannis/research/projects/LSLGA/science/chaos/NGC0628-ellipsefit-fixed.p\n",
      "Writing /Users/ioannis/research/projects/LSLGA/science/chaos/NGC0628-ellipsefit-fixed.p\n",
      "Time = 1381.973 sec\n",
      "Ellipse-fitting i-band image.\n",
      "Time = 1020.477 sec\n",
      "Time for all images = 2402.454 sec\n",
      "Writing /Users/ioannis/research/projects/LSLGA/science/chaos/NGC5194-ellipsefit-fixed.p\n",
      "Writing /Users/ioannis/research/projects/LSLGA/science/chaos/NGC5194-ellipsefit-fixed.p\n",
      "Ellipse-fitting the reference r-band image.\n",
      "  Trying sma0 = 1.0 pixels.\n",
      "Time = 3802.174 sec\n",
      "Ellipse-fitting g-band image.\n",
      "Time = 3566.879 sec\n",
      "Ellipse-fitting i-band image.\n",
      "Time = 8788.296 sec\n",
      "Time for all images = 12355.189 sec\n",
      "Writing /Users/ioannis/research/projects/LSLGA/science/chaos/NGC5457-ellipsefit-fixed.p\n",
      "Writing /Users/ioannis/research/projects/LSLGA/science/chaos/NGC5457-ellipsefit-fixed.p\n",
      "CPU times: user 11.7 s, sys: 6.36 s, total: 18 s\n",
      "Wall time: 6h 5min 14s\n"
     ]
    }
   ],
   "source": [
    "%time build_sbprofiles(sample, clobber=True, verbose=True)"
   ]
  },
  {
   "cell_type": "code",
   "execution_count": 41,
   "metadata": {},
   "outputs": [],
   "source": [
    "def qa(sample, band=('g', 'r', 'i'), verbose=False):\n",
    "    \"\"\"Generate QA.\n",
    "    \n",
    "    \"\"\"\n",
    "    for onegal in sample:\n",
    "        galaxy = onegal['GALAXY']\n",
    "        data = read_multiband(onegal, band=band, verbose=verbose)\n",
    "        ellipsefit = LSLGA.io.read_ellipsefit(galaxy, datadir, noellipsefit=True)\n",
    "        \n",
    "        png = os.path.join(datadir, '{}-ellipse-multiband.png'.format(galaxy))\n",
    "        LSLGA.qa.display_multiband(data, ellipsefit=ellipsefit, png=png)\n",
    "        \n",
    "        smascale = onegal['DISTANCE'] * 1e3 / 206265\n",
    "        png = os.path.join(datadir, '{}-ellipse-sbprofile.png'.format(galaxy))\n",
    "        LSLGA.qa.display_ellipse_sbprofile(ellipsefit, png=png, smascale=smascale)"
   ]
  },
  {
   "cell_type": "code",
   "execution_count": 42,
   "metadata": {},
   "outputs": [
    {
     "name": "stdout",
     "output_type": "stream",
     "text": [
      "Writing /Users/ioannis/research/projects/LSLGA/science/chaos/NGC0628-ellipse-multiband.png\n",
      "Writing /Users/ioannis/research/projects/LSLGA/science/chaos/NGC0628-ellipse-sbprofile.png\n",
      "Writing /Users/ioannis/research/projects/LSLGA/science/chaos/NGC5194-ellipse-multiband.png\n",
      "Writing /Users/ioannis/research/projects/LSLGA/science/chaos/NGC5194-ellipse-sbprofile.png\n",
      "Writing /Users/ioannis/research/projects/LSLGA/science/chaos/NGC5457-ellipse-multiband.png\n",
      "Writing /Users/ioannis/research/projects/LSLGA/science/chaos/NGC5457-ellipse-sbprofile.png\n",
      "Writing /Users/ioannis/research/projects/LSLGA/science/chaos/NGC3184-ellipse-multiband.png\n",
      "Writing /Users/ioannis/research/projects/LSLGA/science/chaos/NGC3184-ellipse-sbprofile.png\n"
     ]
    }
   ],
   "source": [
    "qa(sample, band=band)"
   ]
  },
  {
   "cell_type": "code",
   "execution_count": 43,
   "metadata": {},
   "outputs": [],
   "source": [
    "galaxy = 'NGC3184'\n",
    "ss = sample[3]\n",
    "ellipsefit = LSLGA.io.read_ellipsefit(galaxy, datadir, noellipsefit=True)\n",
    "sbprofile = LSLGA.qa.ellipse_sbprofile(ellipsefit)"
   ]
  },
  {
   "cell_type": "code",
   "execution_count": 44,
   "metadata": {},
   "outputs": [
    {
     "name": "stdout",
     "output_type": "stream",
     "text": [
      "[  0.313632     0.313632     0.313632     0.313632     0.313632\n",
      "   0.313632     0.313632     0.313632     0.313632     0.313632\n",
      "   0.313632     0.313632     0.313632     0.313632     0.313632\n",
      "   0.313632     0.313632     0.313632     0.313632     0.313632\n",
      "   0.313632     0.313632     0.313632     0.313632     0.313632\n",
      "   0.313632     0.313632     0.313632     0.313632     0.313632\n",
      "   0.313632     0.313632     0.313632     0.313632     0.313632\n",
      "   0.56076643   0.67852738   0.82101813   0.99343194   1.20205265\n",
      "   1.4544837    1.75992528   2.12950959   2.5767066    3.11781499\n",
      "   3.77255613   4.56479292   5.52339944   6.68331332   8.08680912\n",
      "   9.78503903  11.83989723  14.34518505  15.52277935  15.47337247\n",
      "  15.57635727  15.71297062  15.77837113  15.90697016  15.84246958\n",
      "  17.17413485  20.67663628  25.0187299   30.27266318  36.62992245\n",
      "  44.32220617  53.62986946  64.89214205  78.51949188  95.00858393\n",
      " 114.96038806 139.10206955]\n"
     ]
    },
    {
     "data": {
      "text/plain": [
       "array([1.90516611e+01, 1.90675602e+01, 1.90849657e+01, 1.91040108e+01,\n",
       "       1.91248382e+01, 1.91476003e+01, 1.91724598e+01, 1.91995887e+01,\n",
       "       1.92240388e+01, 1.78829810e+01, 1.78836432e+01, 1.78759243e+01,\n",
       "       1.78377858e+01, 1.77867242e+01, 1.77295743e+01, 1.77633653e+01,\n",
       "       1.74851901e+01, 1.73876895e+01, 1.70018575e+01, 1.67537750e+01,\n",
       "       1.61395114e+01, 1.54652261e+01, 1.47048524e+01, 1.37157587e+01,\n",
       "       1.27859462e+01, 1.18640971e+01, 1.09856996e+01, 1.00834516e+01,\n",
       "       9.47307257e+00, 8.70887264e+00, 7.98620023e+00, 7.30944784e+00,\n",
       "       6.65604378e+00, 6.06141389e+00, 5.53685058e+00, 2.87699566e+00,\n",
       "       2.20171690e+00, 1.70025251e+00, 1.29576799e+00, 9.84663925e-01,\n",
       "       7.60886886e-01, 5.80146816e-01, 4.49548859e-01, 3.48919470e-01,\n",
       "       2.68378862e-01, 2.06350948e-01, 1.59140145e-01, 1.23426641e-01,\n",
       "       9.55214265e-02, 7.50290102e-02, 5.85995631e-02, 4.52768438e-02,\n",
       "       3.47048534e-02, 2.89502485e-02, 2.51309724e-02, 2.31481304e-02,\n",
       "       2.23072474e-02, 2.06648871e-02, 1.92153796e-02, 1.87242596e-02,\n",
       "       1.59307117e-02, 1.21333599e-02, 9.45049495e-03, 7.30458695e-03,\n",
       "       5.67803422e-03, 4.39898975e-03, 3.32503303e-03, 2.29392183e-03,\n",
       "       1.45536179e-03, 9.05331518e-04, 5.79193682e-04, 3.51869414e-04])"
      ]
     },
     "execution_count": 44,
     "metadata": {},
     "output_type": "execute_result"
    }
   ],
   "source": [
    "solarmag = {'g': 5.15, 'r': 4.67, 'i': 4.56} # absolute solar magnitude\n",
    "area = ellipsefit['i'].sarea * pixscale**2 # area of elliptical sector [arcsec2]\n",
    "print(area)\n",
    "10**(-0.4 * (sbprofile['mu_i'] + 2.5 * np.log10(area) - 5 * np.log10(ss['DISTANCE'] * 1e3) + 5 - solarmag['i']))"
   ]
  },
  {
   "cell_type": "code",
   "execution_count": 45,
   "metadata": {},
   "outputs": [
    {
     "data": {
      "text/plain": [
       "array([1.07239535e+50, 1.07329029e+50, 1.07427003e+50, 1.07534205e+50,\n",
       "       1.07651440e+50, 1.07779566e+50, 1.07919497e+50, 1.08072202e+50,\n",
       "       1.08209829e+50, 1.00661174e+50, 1.00664901e+50, 1.00621452e+50,\n",
       "       1.00406775e+50, 1.00119356e+50, 9.97976659e+49, 9.99878710e+49,\n",
       "       9.84220561e+49, 9.78732367e+49, 9.57014341e+49, 9.43050074e+49,\n",
       "       9.08473906e+49, 8.70519188e+49, 8.27718660e+49, 7.72043748e+49,\n",
       "       7.19705708e+49, 6.67815919e+49, 6.18371966e+49, 5.67585500e+49,\n",
       "       5.33227992e+49, 4.90212086e+49, 4.49533715e+49, 4.11440128e+49,\n",
       "       3.74660790e+49, 3.41189781e+49, 3.11662736e+49, 2.89549569e+49,\n",
       "       2.68120834e+49, 2.50534696e+49, 2.31029305e+49, 2.12428716e+49,\n",
       "       1.98623516e+49, 1.83245724e+49, 1.71813865e+49, 1.61358513e+49,\n",
       "       1.50175939e+49, 1.39715274e+49, 1.30377467e+49, 1.22353689e+49,\n",
       "       1.14576177e+49, 1.08895044e+49, 1.02910253e+49, 9.62112341e+48,\n",
       "       8.93507241e+48, 8.06535500e+48, 6.97904470e+48, 6.47118071e+48,\n",
       "       6.29080162e+48, 5.85190022e+48, 5.48577690e+48, 5.32389208e+48,\n",
       "       4.91034213e+48, 4.50259283e+48, 4.24347375e+48, 3.96869752e+48,\n",
       "       3.73280852e+48, 3.49925851e+48, 3.20040111e+48, 2.67160613e+48,\n",
       "       2.05092678e+48, 1.54373302e+48, 1.19501607e+48, 8.78449533e+47])"
      ]
     },
     "execution_count": 45,
     "metadata": {},
     "output_type": "execute_result"
    }
   ],
   "source": [
    "4 * np.pi * (ss['DISTANCE'] * 3.086e22)**2 * 10**(0.4 * (22.5 - sbprofile['mu_i']))"
   ]
  },
  {
   "cell_type": "code",
   "execution_count": 46,
   "metadata": {},
   "outputs": [
    {
     "name": "stdout",
     "output_type": "stream",
     "text": [
      "[1.71042878 1.71323378 1.71629115 1.71962008 1.72324042 1.72717238\n",
      " 1.73143628 2.12818535 2.13358971 1.74576767 1.75033543 1.75599872\n",
      " 1.7627752  1.76970792 1.77735881 1.78082139 1.803346   1.80837964\n",
      " 1.82370382 1.82388285 1.83531189 1.8507095  1.86728458 1.90052951\n",
      " 1.94651861 2.02056926 2.10682011 2.20262298 2.4423881  2.38957235\n",
      " 2.50093877 2.5589141  2.63438513 2.75892283 2.8222487  2.86085824\n",
      " 2.92675428 2.95819176 3.07065579 3.04136076 3.05311071 3.04430245\n",
      " 2.94948954 2.88713143 2.92043603 2.8397286  2.80349958 2.83081566\n",
      " 2.7369597  2.68593242 2.63960447 2.58739211 2.51369556 2.61465151\n",
      " 2.61750094 2.36959752 2.47635171 2.49319403 2.54815171 2.33009477\n",
      " 2.36983812 2.28536577 2.15721178 2.16935717 2.19007805 2.09234899\n",
      " 2.08496869 2.13035322 2.04138457 2.14786412 2.09950718 2.26159146]\n"
     ]
    }
   ],
   "source": [
    "\n",
    "ai, bi = 0.006, 1.114 # r-i vs i coefficients\n",
    "ml = 10**(ai + bi * sbprofile['ri']) # M/L\n",
    "print(ml)"
   ]
  },
  {
   "cell_type": "code",
   "execution_count": null,
   "metadata": {},
   "outputs": [],
   "source": []
  }
 ],
 "metadata": {
  "kernelspec": {
   "display_name": "Python 3",
   "language": "python",
   "name": "python3"
  },
  "language_info": {
   "codemirror_mode": {
    "name": "ipython",
    "version": 3
   },
   "file_extension": ".py",
   "mimetype": "text/x-python",
   "name": "python",
   "nbconvert_exporter": "python",
   "pygments_lexer": "ipython3",
   "version": "3.6.5"
  }
 },
 "nbformat": 4,
 "nbformat_minor": 2
}
