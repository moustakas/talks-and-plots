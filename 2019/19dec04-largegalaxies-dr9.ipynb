{
 "cells": [
  {
   "cell_type": "code",
   "execution_count": 7,
   "metadata": {},
   "outputs": [],
   "source": [
    "import os\n",
    "import numpy as np\n",
    "from astropy.io import fits\n",
    "from astropy.table import Table, Column"
   ]
  },
  {
   "cell_type": "code",
   "execution_count": 8,
   "metadata": {},
   "outputs": [],
   "source": [
    "import seaborn as sns\n",
    "sns.set(context='talk', style='ticks', font_scale=1.6)#, rc=rc) "
   ]
  },
  {
   "cell_type": "code",
   "execution_count": 9,
   "metadata": {},
   "outputs": [],
   "source": [
    "import matplotlib.pyplot as plt\n",
    "%matplotlib inline"
   ]
  },
  {
   "cell_type": "code",
   "execution_count": 10,
   "metadata": {},
   "outputs": [],
   "source": [
    "def read_data(camera='decam'):\n",
    "    ondiskfile = {\n",
    "        'decam': '/Users/ioannis/tmp/survey-ccds-decam-dr9-cut.fits',\n",
    "        'mosaic': '/Users/ioannis/tmp/survey-ccds-mosaic-dr9-cut.fits',\n",
    "        '90prime': '/Users/ioannis/tmp/survey-ccds-90prime-dr9-cut.fits',\n",
    "    }\n",
    "    return Table(fits.getdata(ondiskfile[camera]))"
   ]
  },
  {
   "cell_type": "code",
   "execution_count": 13,
   "metadata": {},
   "outputs": [],
   "source": [
    "%time mosaic = read_data('mosaic')"
   ]
  },
  {
   "cell_type": "code",
   "execution_count": 15,
   "metadata": {},
   "outputs": [
    {
     "name": "stdout",
     "output_type": "stream",
     "text": [
      "CPU times: user 1e+03 ms, sys: 170 ms, total: 1.17 s\n",
      "Wall time: 1.18 s\n"
     ]
    }
   ],
   "source": [
    "%time prime = read_data('90prime')"
   ]
  },
  {
   "cell_type": "code",
   "execution_count": 16,
   "metadata": {},
   "outputs": [
    {
     "name": "stdout",
     "output_type": "stream",
     "text": [
      "CPU times: user 38.6 s, sys: 19 s, total: 57.7 s\n",
      "Wall time: 1min 7s\n"
     ]
    }
   ],
   "source": [
    "%time decam = read_data('decam')"
   ]
  },
  {
   "cell_type": "code",
   "execution_count": 17,
   "metadata": {},
   "outputs": [
    {
     "data": {
      "text/plain": [
       "{'V2.3    '}"
      ]
     },
     "execution_count": 17,
     "metadata": {},
     "output_type": "execute_result"
    }
   ],
   "source": [
    "set(prime['plver'])"
   ]
  },
  {
   "cell_type": "code",
   "execution_count": 18,
   "metadata": {},
   "outputs": [
    {
     "name": "stdout",
     "output_type": "stream",
     "text": [
      "7 ['V2.3    ', 'V4.3', 'V4.8', 'V4.8.1', 'V4.8.2', 'V4.8.2a', 'V4.8.2a ']\n"
     ]
    }
   ],
   "source": [
    "uplver = sorted(set(np.hstack((decam['plver'].data, mosaic['plver'].data, prime['plver'].data))))\n",
    "print(len(uplver), uplver)"
   ]
  },
  {
   "cell_type": "code",
   "execution_count": 19,
   "metadata": {},
   "outputs": [],
   "source": [
    "def get_nperver(data):\n",
    "    \"\"\"Get the number of images with each PLVER.\"\"\"\n",
    "    nperver = [np.sum(data['plver'] == ver) for ver in uplver]\n",
    "    nperver /= np.sum(nperver)\n",
    "    return nperver"
   ]
  },
  {
   "cell_type": "code",
   "execution_count": 23,
   "metadata": {},
   "outputs": [
    {
     "data": {
      "image/png": "[encoded data removed]",
      "text/plain": [
       "<matplotlib.figure.Figure at 0x1a2a3a8eb8>"
      ]
     },
     "metadata": {},
     "output_type": "display_data"
    }
   ],
   "source": [
    "fig, ax = plt.subplots(figsize=(10, 7))\n",
    "for camera, data in zip(('mosaic', '90prime', 'decam'), (mosaic, prime, decam)):\n",
    "    nperver = get_nperver(data)\n",
    "    #print(camera, nperver)\n",
    "    ax.bar(np.arange(len(uplver)), nperver, label=camera)\n",
    "ax.set_xlabel('CP Version')\n",
    "ax.set_ylabel('Fraction of Data')\n",
    "ax.set_xlim(-0.5, len(uplver)-1)\n",
    "_ = ax.set_xticklabels([uplver[int(ll)] for ll in ax.get_xticks().tolist()[:-1]])\n",
    "#_ = ax.set_xticklabels([uplver[int(ll)].decode('utf-8') for ll in ax.get_xticks().tolist()[:-1]])\n",
    "ax.legend()\n",
    "plt.subplots_adjust(bottom=0.15)\n",
    "plt.savefig('dr9-plver-distribution.png')\n",
    "#ax.get_xticks().tolist()\n",
    "#newlabels = [item.get_text() for item in ax.get_xticklabels()[:-1]]\n",
    "#print(newlabels)"
   ]
  },
  {
   "cell_type": "code",
   "execution_count": null,
   "metadata": {},
   "outputs": [],
   "source": []
  }
 ],
 "metadata": {
  "kernelspec": {
   "display_name": "Python 3",
   "language": "python",
   "name": "python3"
  },
  "language_info": {
   "codemirror_mode": {
    "name": "ipython",
    "version": 3
   },
   "file_extension": ".py",
   "mimetype": "text/x-python",
   "name": "python",
   "nbconvert_exporter": "python",
   "pygments_lexer": "ipython3",
   "version": "3.6.7"
  }
 },
 "nbformat": 4,
 "nbformat_minor": 2
}
