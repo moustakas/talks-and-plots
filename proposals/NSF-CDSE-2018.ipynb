{
 "cells": [
  {
   "cell_type": "markdown",
   "metadata": {},
   "source": [
    "# Prepare some figures for the 2018 NSF/CDS&E proposal"
   ]
  },
  {
   "cell_type": "code",
   "execution_count": 1,
   "metadata": {},
   "outputs": [],
   "source": [
    "import os, time\n",
    "import numpy as np"
   ]
  },
  {
   "cell_type": "code",
   "execution_count": 7,
   "metadata": {},
   "outputs": [
    {
     "name": "stderr",
     "output_type": "stream",
     "text": [
      "/usr/local/anaconda3/envs/LSLGA/lib/python3.6/site-packages/h5py/__init__.py:36: FutureWarning: Conversion of the second argument of issubdtype from `float` to `np.floating` is deprecated. In future, it will be treated as `np.float64 == np.dtype(float).type`.\n",
      "  from ._conv import register_converters as _register_converters\n"
     ]
    }
   ],
   "source": [
    "import fsps\n",
    "import sedpy\n",
    "import prospect"
   ]
  },
  {
   "cell_type": "code",
   "execution_count": 2,
   "metadata": {},
   "outputs": [],
   "source": [
    "import matplotlib.pyplot as plt"
   ]
  },
  {
   "cell_type": "code",
   "execution_count": 3,
   "metadata": {},
   "outputs": [],
   "source": [
    "import seaborn as sns\n",
    "sns.set(style='ticks', font_scale=1.8, palette='Set2')\n",
    "%matplotlib inline"
   ]
  },
  {
   "cell_type": "code",
   "execution_count": 5,
   "metadata": {},
   "outputs": [],
   "source": [
    "phot = dict(\n",
    "    FUV=(1528.0597, 18.7742346978),\n",
    "    NUV=(2271.1257, 18.2877269035),\n",
    "    g=(4771.4883, 15.2561267845),\n",
    "    r=(6391.7354, 14.5113609983),\n",
    "    z=(9149.0635, 13.8846830596),\n",
    "    W1=(33461.023, 14.2520410312),\n",
    "    W2=(45952.086, 14.7917564957),\n",
    "    W3=(115531.34, 13.597660877),\n",
    "    W4=(220781.86, 13.1456577726))"
   ]
  },
  {
   "cell_type": "code",
   "execution_count": 8,
   "metadata": {},
   "outputs": [],
   "source": [
    "verbose = True\n",
    "zcontinuous = 1"
   ]
  },
  {
   "cell_type": "markdown",
   "metadata": {},
   "source": [
    "### Data"
   ]
  },
  {
   "cell_type": "code",
   "execution_count": 22,
   "metadata": {},
   "outputs": [],
   "source": [
    "def load_obs(snr=10):\n",
    "    \"\"\"Assume 10% errors.\"\"\"\n",
    "    from prospect.utils.obsutils import fix_obs    \n",
    "    \n",
    "    galex = ['galex_FUV', 'galex_NUV']\n",
    "    spitzer = ['wise_w'+n for n in ['1','2','3','4']]\n",
    "    sdss = ['sdss_{0}0'.format(b) for b in ['g', 'r', 'z']]\n",
    "    filternames = galex + sdss + spitzer\n",
    "\n",
    "    obs = {}\n",
    "    obs['redshift'] = 0.03302\n",
    "    obs[\"filters\"] = sedpy.observate.load_filters(filternames)\n",
    "\n",
    "    mags = np.array([phot[filt][1] for filt in phot.keys()])\n",
    "    obs[\"maggies\"] = 10**(-0.4*mags)\n",
    "    obs[\"maggies_unc\"] = (1./snr) * obs[\"maggies\"]\n",
    "\n",
    "    # mask out W4\n",
    "    #obs[\"phot_mask\"] = np.array(['w4' in f.name for f in obs[\"filters\"]])    \n",
    "    \n",
    "    # we will also create a handy vector of effective wavelengths, though this is not required\n",
    "    obs[\"phot_wave\"] = [f.wave_effective for f in obs[\"filters\"]]\n",
    "    obs[\"wavelength\"] = None  # this would be a vector of wavelengths in angstroms if we had \n",
    "    obs[\"spectrum\"] = None\n",
    "    obs['unc'] = None  #spectral uncertainties are given here\n",
    "    obs['mask'] = None\n",
    "    obs = fix_obs(obs)\n",
    "    return obs"
   ]
  },
  {
   "cell_type": "code",
   "execution_count": 23,
   "metadata": {},
   "outputs": [],
   "source": [
    "obs = load_obs()"
   ]
  },
  {
   "cell_type": "code",
   "execution_count": 12,
   "metadata": {},
   "outputs": [],
   "source": [
    "run_params = {}\n",
    "run_params['redshift'] = obs['redshift']\n",
    "run_params[\"snr\"] = 10.0\n",
    "run_params[\"zcontinuous\"] = zcontinuous\n",
    "run_params[\"verbose\"] = verbose"
   ]
  },
  {
   "cell_type": "markdown",
   "metadata": {},
   "source": [
    "### Model"
   ]
  },
  {
   "cell_type": "code",
   "execution_count": 13,
   "metadata": {},
   "outputs": [],
   "source": [
    "def load_model(obs):\n",
    "    \n",
    "    from prospect.models import priors\n",
    "    from prospect.models.sedmodel import SedModel\n",
    "    from prospect.models.templates import TemplateLibrary\n",
    "\n",
    "    model_params = TemplateLibrary[\"parametric_sfh\"]\n",
    "    \n",
    "    # fixed redshift\n",
    "    model_params[\"zred\"]['isfree'] = False\n",
    "    model_params[\"zred\"]['init'] = obs['redshift']\n",
    "        \n",
    "    # fixed metallicity\n",
    "    model_params[\"logzsol\"][\"isfree\"] = False\n",
    "    model_params[\"logzsol\"]['init'] = 0.019\n",
    "       \n",
    "    # Adjust model initial values\n",
    "    model_params[\"dust2\"][\"init\"] = 0.0\n",
    "    model_params[\"tage\"][\"init\"] = 10.\n",
    "    model_params[\"mass\"][\"init\"] = 1e10\n",
    "    \n",
    "    # adjust priors\n",
    "    model_params[\"dust2\"][\"prior\"] = priors.TopHat(mini=0.0, maxi=2.0)\n",
    "    model_params[\"tau\"][\"prior\"] = priors.LogUniform(mini=1e-1, maxi=1e2)\n",
    "    model_params[\"mass\"][\"prior\"] = priors.LogUniform(mini=1e9, maxi=1e12)\n",
    "\n",
    "    # If we are going to be using emcee, it is useful to provide a \n",
    "    # minimum scale for the cloud of walkers (the default is 0.1)\n",
    "    model_params[\"mass\"][\"disp_floor\"] = 1e7\n",
    "    model_params[\"tau\"][\"disp_floor\"] = 1.0\n",
    "    model_params[\"tage\"][\"disp_floor\"] = 1.0\n",
    "    \n",
    "    # Add dust emission (with fixed dust SED parameters)\n",
    "    model_params.update(TemplateLibrary[\"dust_emission\"])\n",
    "        \n",
    "    # Now instantiate the model using this new dictionary of parameter specifications\n",
    "    model = SedModel(model_params)\n",
    "\n",
    "    return model"
   ]
  },
  {
   "cell_type": "code",
   "execution_count": 17,
   "metadata": {},
   "outputs": [],
   "source": [
    "model = load_model(obs)"
   ]
  },
  {
   "cell_type": "code",
   "execution_count": 14,
   "metadata": {},
   "outputs": [],
   "source": [
    "def load_sps(zcontinuous=1):\n",
    "    from prospect.sources import CSPSpecBasis\n",
    "    sps = CSPSpecBasis(zcontinuous=zcontinuous)\n",
    "    return sps"
   ]
  },
  {
   "cell_type": "code",
   "execution_count": 15,
   "metadata": {},
   "outputs": [],
   "source": [
    "def lnprobfn(theta, nested=False, verbose=verbose):\n",
    "    \"\"\"\n",
    "    Given a parameter vector, a dictionary of observational data \n",
    "    a model object, and an sps object, return the ln of the posterior. \n",
    "    This requires that an sps object (and if using spectra \n",
    "    and gaussian processes, a GP object) be instantiated.\n",
    "\n",
    "    \"\"\"\n",
    "    from prospect.likelihood import lnlike_spec, lnlike_phot, write_log\n",
    "\n",
    "    # Calculate prior probability and exit if not within prior\n",
    "    # Also if doing nested sampling, do not include the basic priors, \n",
    "    # since the drawing method includes the prior probability\n",
    "    lnp_prior = model.prior_product(theta, nested=nested)\n",
    "    if not np.isfinite(lnp_prior):\n",
    "        return -np.infty\n",
    "        \n",
    "    # Generate \"mean\" model\n",
    "    t1 = time.time()\n",
    "    spec, phot, mfrac = model.mean_model(theta, obs, sps=sps)\n",
    "    d1 = time.time() - t1\n",
    " \n",
    "    # Calculate likelihoods\n",
    "    t2 = time.time()\n",
    "    lnp_spec = lnlike_spec(spec, obs=obs)\n",
    "    lnp_phot = lnlike_phot(phot, obs=obs)\n",
    "    d2 = time.time() - t2\n",
    "    if verbose:\n",
    "        write_log(theta, lnp_prior, lnp_spec, lnp_phot, d1, d2)\n",
    "\n",
    "    return lnp_prior + lnp_phot + lnp_spec"
   ]
  },
  {
   "cell_type": "code",
   "execution_count": 18,
   "metadata": {},
   "outputs": [],
   "source": [
    "def chivecfn(theta):\n",
    "    \"\"\"A version of lnprobfn that returns the simple uncertainty \n",
    "    normalized residual instead of the log-posterior, for use with \n",
    "    least-squares optimization methods like Levenburg-Marquardt.\n",
    "    \n",
    "    It's important to note that the returned chi vector does not \n",
    "    include the prior probability.\n",
    "    \n",
    "    \"\"\"\n",
    "    from prospect.likelihood import chi_spec, chi_phot\n",
    "    \n",
    "    lnp_prior = model.prior_product(theta)\n",
    "    if not np.isfinite(lnp_prior):\n",
    "        return -np.infty\n",
    "\n",
    "    # Generate mean model\n",
    "    t1 = time.time()\n",
    "    try:\n",
    "        spec, phot, x = model.mean_model(theta, obs, sps=sps)\n",
    "    except(ValueError):\n",
    "        return -np.infty\n",
    "    d1 = time.time() - t1\n",
    "\n",
    "    chispec = chi_spec(spec, obs)\n",
    "    chiphot = chi_phot(phot, obs)\n",
    "    return np.concatenate([chispec, chiphot])"
   ]
  },
  {
   "cell_type": "code",
   "execution_count": 19,
   "metadata": {},
   "outputs": [
    {
     "name": "stdout",
     "output_type": "stream",
     "text": [
      "CPU times: user 11.1 s, sys: 932 ms, total: 12 s\n",
      "Wall time: 12.2 s\n"
     ]
    }
   ],
   "source": [
    "%time sps = load_sps(zcontinuous=zcontinuous)"
   ]
  },
  {
   "cell_type": "markdown",
   "metadata": {},
   "source": [
    "### Simple maximum-likelihood fitting"
   ]
  },
  {
   "cell_type": "code",
   "execution_count": 20,
   "metadata": {},
   "outputs": [],
   "source": [
    "from prospect import fitting\n",
    "from scipy.optimize import least_squares\n",
    "run_params[\"nmin\"] = 5\n",
    "run_params['ftol'] = 3e-16 \n",
    "run_params['maxfev'] = 5000\n",
    "run_params['xtol'] = 3e-16"
   ]
  },
  {
   "cell_type": "code",
   "execution_count": 24,
   "metadata": {},
   "outputs": [
    {
     "name": "stderr",
     "output_type": "stream",
     "text": [
      "/usr/local/anaconda3/envs/LSLGA/lib/python3.6/site-packages/prospect-0.2-py3.6.egg/prospect/models/priors.py:155: RuntimeWarning: divide by zero encountered in log\n"
     ]
    },
    {
     "name": "stdout",
     "output_type": "stream",
     "text": [
      "done levenberg_marquardt in 4.255380153656006s\n",
      "best levenberg_marquardt chi-sq: 19.517384420752933\n",
      "best guess paramaters:\n",
      "  mass = 42743625560.20938\n",
      "  dust2 = 0.4448133922800307\n",
      "  tage = 2.534352073852554\n",
      "  tau = 0.3517230506892688\n"
     ]
    }
   ],
   "source": [
    "# --- start minimization ----\n",
    "min_method = 'levenberg_marquardt'\n",
    "run_params[\"min_method\"] = min_method\n",
    "\n",
    "# We'll start minimization from \"nmin\" separate places, \n",
    "# the first based on the \"init\" values of each parameter and the \n",
    "# rest drawn from the prior.  This can guard against local minima.\n",
    "nmin = run_params[\"nmin\"]\n",
    "ts = time.time()  # time it\n",
    "pinitial = fitting.minimizer_ball(model.initial_theta.copy(), nmin, model)\n",
    "guesses = []\n",
    "for i, pinit in enumerate(pinitial): #loop over initial guesses\n",
    "    res = least_squares(chivecfn, np.array(pinit), method='lm', x_scale='jac',\n",
    "                        xtol=run_params[\"xtol\"], ftol=run_params[\"ftol\"], \n",
    "                        max_nfev=run_params[\"maxfev\"])\n",
    "    guesses.append(res)\n",
    "\n",
    "# Calculate chi-square of the results, and choose the best one\n",
    "# fitting.reinitialize moves the parameter vector away from edges of the prior.\n",
    "chisq = [np.sum(r.fun**2) for r in guesses]\n",
    "best = np.argmin(chisq)\n",
    "theta_best = fitting.reinitialize(guesses[best].x, model,\n",
    "                                  edge_trunc=run_params.get('edge_trunc', 0.1))\n",
    "initial_prob = None\n",
    "pdur = time.time() - ts\n",
    "\n",
    "# output results\n",
    "print('done {0} in {1}s'.format(min_method, pdur))\n",
    "print('best {0} chi-sq: {1}'.format(min_method, chisq[best]))\n",
    "print('best guess paramaters:')\n",
    "for k, t in zip(model.theta_labels(), theta_best):\n",
    "    print('  {} = {}'.format(k, t))"
   ]
  },
  {
   "cell_type": "code",
   "execution_count": 25,
   "metadata": {},
   "outputs": [
    {
     "data": {
      "image/png": "[encoded data removed]",
      "text/plain": [
       "<matplotlib.figure.Figure at 0x1a801a9f98>"
      ]
     },
     "metadata": {},
     "output_type": "display_data"
    }
   ],
   "source": [
    "# generate model\n",
    "from matplotlib.pylab import *\n",
    "prediction = model.mean_model(theta_best, obs, sps=sps)\n",
    "pspec, pphot, pextra = prediction\n",
    "\n",
    "a = 1.0 + model.params.get('zred', 0.0) # cosmological redshifting\n",
    "# photometric effective wavelengths\n",
    "wphot = obs[\"phot_wave\"]\n",
    "\n",
    "if obs[\"wavelength\"] is None:\n",
    "    # *restframe* spectral wavelengths, since obs[\"wavelength\"] is None\n",
    "    wspec = sps.wavelengths\n",
    "    wspec *= a #redshift them\n",
    "else:\n",
    "    wspec = obs[\"wavelength\"]\n",
    "\n",
    "# establish bounds\n",
    "xmin, xmax = np.min(wphot)*0.5, np.max(wphot)/0.5\n",
    "temp = np.interp(np.linspace(xmin,xmax,10000), wspec, pspec)\n",
    "ymin, ymax = temp.min()*0.8, temp.max()/0.4    \n",
    "    \n",
    "figure(figsize=(12, 8))\n",
    "\n",
    "loglog(wspec, pspec, label='Model spectrum', \n",
    "       lw=0.7, color='navy', alpha=0.7)\n",
    "errorbar(wphot, pphot, label='Model photometry', \n",
    "         marker='s', markersize=10, alpha=0.8, ls='', lw=3,\n",
    "         markerfacecolor='none', markeredgecolor='blue', \n",
    "         markeredgewidth=3)\n",
    "errorbar(wphot, obs['maggies'], yerr=obs['maggies_unc'],\n",
    "         label='Observed photometry', \n",
    "         marker='o', markersize=10, alpha=0.8, ls='', lw=3, \n",
    "         ecolor='red', markerfacecolor='none', markeredgecolor='red', \n",
    "         markeredgewidth=3)\n",
    "\n",
    "# plot filter transmission curves\n",
    "#for f in obs['filters']:\n",
    "#    w, t = f.wavelength.copy(), f.transmission.copy()\n",
    "#    while t.max() > 1:\n",
    "#        t /= 10.\n",
    "#    t = 0.1*(ymax-ymin)*t + ymin\n",
    "#    loglog(w, t, lw=3, color='gray', alpha=0.7)\n",
    "\n",
    "# Prettify\n",
    "xlabel(r'Observed-frame Wavelength ($\\mu$m)')\n",
    "ylabel('Flux Density [maggies]')\n",
    "xlim([xmin, xmax])\n",
    "ylim([ymin, ymax])\n",
    "legend(loc='best', fontsize=20)\n",
    "tight_layout()"
   ]
  },
  {
   "cell_type": "code",
   "execution_count": 30,
   "metadata": {},
   "outputs": [],
   "source": [
    "np.savetxt('sed.txt', np.array([wspec, pspec]).T)"
   ]
  },
  {
   "cell_type": "code",
   "execution_count": 31,
   "metadata": {},
   "outputs": [
    {
     "data": {
      "text/plain": [
       "array([9.40048200e+01, 9.71038800e+01, 9.91699200e+01, ...,\n",
       "       1.01411573e+08, 1.02351622e+08, 1.03302000e+08])"
      ]
     },
     "execution_count": 31,
     "metadata": {},
     "output_type": "execute_result"
    }
   ],
   "source": [
    "wspec"
   ]
  },
  {
   "cell_type": "code",
   "execution_count": null,
   "metadata": {},
   "outputs": [],
   "source": []
  }
 ],
 "metadata": {
  "kernelspec": {
   "display_name": "Python 3",
   "language": "python",
   "name": "python3"
  },
  "language_info": {
   "codemirror_mode": {
    "name": "ipython",
    "version": 3
   },
   "file_extension": ".py",
   "mimetype": "text/x-python",
   "name": "python",
   "nbconvert_exporter": "python",
   "pygments_lexer": "ipython3",
   "version": "3.6.5"
  }
 },
 "nbformat": 4,
 "nbformat_minor": 2
}
