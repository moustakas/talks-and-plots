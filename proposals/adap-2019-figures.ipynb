{
 "cells": [
  {
   "cell_type": "markdown",
   "metadata": {},
   "source": [
    "# Figures for 2019 ADAP Proposal\n",
    "\n",
    "* Magnitude-surface brightness with notable large galaxies labeled\n",
    "* Show color-magnitude space with Tractor mag/color and custom (aperture) mag/color.\n",
    "* Need for this analysis:\n",
    "  - Where does the Tractor pipeline break down?\n",
    "  - Which galaxies require custom analysis?"
   ]
  },
  {
   "cell_type": "code",
   "execution_count": 1,
   "metadata": {},
   "outputs": [],
   "source": [
    "import os, warnings, pdb\n",
    "from glob import glob\n",
    "import numpy as np\n",
    "import numpy.ma as ma\n",
    "import pandas as pd\n",
    "from astrometry.util.fits import fits_table\n",
    "\n",
    "import fitsio\n",
    "from astropy.table import Table, Column, vstack, hstack"
   ]
  },
  {
   "cell_type": "code",
   "execution_count": 2,
   "metadata": {},
   "outputs": [],
   "source": [
    "import corner\n",
    "import matplotlib.pyplot as plt\n",
    "import matplotlib as mpl"
   ]
  },
  {
   "cell_type": "code",
   "execution_count": 3,
   "metadata": {},
   "outputs": [],
   "source": [
    "import LSLGA.io\n",
    "import LSLGA.NLSA\n",
    "import LSLGA.qa\n",
    "import LSLGA.ellipse"
   ]
  },
  {
   "cell_type": "code",
   "execution_count": 4,
   "metadata": {},
   "outputs": [],
   "source": [
    "import seaborn as sns\n",
    "sns.set(style='ticks', font_scale=1.8, palette='Set2')\n",
    "%matplotlib inline"
   ]
  },
  {
   "cell_type": "code",
   "execution_count": 5,
   "metadata": {},
   "outputs": [],
   "source": [
    "LSLGAdir = os.getenv('LSLGA_DIR')\n",
    "#adapdir = os.path.join(os.getenv('HOME'), 'repos', 'papers', 'grants', 'nasa-adap-2019')\n",
    "adapdir = os.path.join(LSLGAdir, 'science', 'proposals', 'nasa-adap-2019')"
   ]
  },
  {
   "cell_type": "code",
   "execution_count": 6,
   "metadata": {},
   "outputs": [],
   "source": [
    "PIXSCALE = 0.262"
   ]
  },
  {
   "cell_type": "code",
   "execution_count": 7,
   "metadata": {},
   "outputs": [],
   "source": [
    "seed = 1\n",
    "rand = np.random.RandomState(seed)"
   ]
  },
  {
   "cell_type": "markdown",
   "metadata": {},
   "source": [
    "### Ellipse-fitting NGC5322"
   ]
  },
  {
   "cell_type": "code",
   "execution_count": 17,
   "metadata": {},
   "outputs": [
    {
     "data": {
      "text/html": [
       "<i>Row index=0</i>\n",
       "<table id=\"table112574052560\">\n",
       "<thead><tr><th>ra</th><th>dec</th><th>type</th><th>shapedev_r</th><th>flux_g</th><th>flux_r</th><th>flux_z</th><th>flux_w1</th><th>flux_w2</th><th>flux_w3</th><th>flux_w4</th><th>flux_ivar_g</th><th>flux_ivar_r</th><th>flux_ivar_z</th><th>flux_ivar_w1</th><th>flux_ivar_w2</th><th>flux_ivar_w3</th><th>flux_ivar_w4</th></tr></thead>\n",
       "<thead><tr><th>deg</th><th>deg</th><th></th><th>arcsec</th><th>nanomaggy</th><th>nanomaggy</th><th>nanomaggy</th><th>nanomaggy</th><th>nanomaggy</th><th>nanomaggy</th><th>nanomaggy</th><th>1/nanomaggy^2</th><th>1/nanomaggy^2</th><th>1/nanomaggy^2</th><th>1/nanomaggy^2</th><th>1/nanomaggy^2</th><th>1/nanomaggy^2</th><th>1/nanomaggy^2</th></tr></thead>\n",
       "<thead><tr><th>float64</th><th>float64</th><th>bytes4</th><th>float32</th><th>float32</th><th>float32</th><th>float32</th><th>float32</th><th>float32</th><th>float32</th><th>float32</th><th>float32</th><th>float32</th><th>float32</th><th>float32</th><th>float32</th><th>float32</th><th>float32</th></tr></thead>\n",
       "<tr><td>207.31360766282367</td><td>60.19054459091414</td><td>DEV</td><td>35.963028</td><td>51032.92</td><td>108675.04</td><td>173005.16</td><td>126294.73</td><td>67562.625</td><td>34738.555</td><td>32283.23</td><td>0.060252897</td><td>0.019527867</td><td>0.011034269</td><td>0.1742277</td><td>0.03782868</td><td>0.000105459614</td><td>2.8181848e-06</td></tr>\n",
       "</table>"
      ],
      "text/plain": [
       "<Row index=0>\n",
       "        ra                dec         type  shapedev_r   flux_g    flux_r    flux_z   flux_w1   flux_w2   flux_w3   flux_w4   flux_ivar_g   flux_ivar_r   flux_ivar_z   flux_ivar_w1  flux_ivar_w2  flux_ivar_w3   flux_ivar_w4\n",
       "       deg                deg                 arcsec   nanomaggy nanomaggy nanomaggy nanomaggy nanomaggy nanomaggy nanomaggy 1/nanomaggy^2 1/nanomaggy^2 1/nanomaggy^2 1/nanomaggy^2 1/nanomaggy^2 1/nanomaggy^2  1/nanomaggy^2\n",
       "     float64            float64      bytes4  float32    float32   float32   float32   float32   float32   float32   float32     float32       float32       float32       float32       float32       float32        float32   \n",
       "------------------ ----------------- ------ ---------- --------- --------- --------- --------- --------- --------- --------- ------------- ------------- ------------- ------------- ------------- -------------- -------------\n",
       "207.31360766282367 60.19054459091414   DEV   35.963028  51032.92 108675.04 173005.16 126294.73 67562.625 34738.555  32283.23   0.060252897   0.019527867   0.011034269     0.1742277    0.03782868 0.000105459614 2.8181848e-06"
      ]
     },
     "execution_count": 17,
     "metadata": {},
     "output_type": "execute_result"
    }
   ],
   "source": [
    "tt = Table.read('/Users/ioannis/research/projects/LSLGA/NLSA/8/1/184/NGC5322/NGC5322-tractor.fits')\n",
    "tt = tt[np.argsort(tt['shapedev_r'])[::-1]][0]\n",
    "cols = ['ra', 'dec', 'type', 'shapedev_r',]\n",
    "cols += ['flux_{}'.format(bb) for bb in ('g', 'r', 'z', 'w1', 'w2', 'w3', 'w4')]\n",
    "cols += ['flux_ivar_{}'.format(bb) for bb in ('g', 'r', 'z', 'w1', 'w2', 'w3', 'w4')]\n",
    "tt[cols]"
   ]
  },
  {
   "cell_type": "code",
   "execution_count": null,
   "metadata": {},
   "outputs": [],
   "source": [
    "bands = ('FUV', 'NUV', 'g', 'r', 'z', 'W1', 'W2', 'W3', 'W4')\n",
    "onegal = LSLGA.NLSA.read_nlsa_parent(montage=True, first=1, last=1)[0]\n",
    "galaxy, galaxydir = LSLGA.NLSA.get_galaxy_galaxydir(onegal)\n",
    "#%time LSLGA.ellipse.LSLGA_ellipse(onegal, galaxy=gal, galaxydir=galdir, \n",
    "#                                  maxsma=1500, verbose=True, nproc=4)\n",
    "data = LSLGA.io.read_multiband(galaxy, galaxydir, band=bands)"
   ]
  },
  {
   "cell_type": "code",
   "execution_count": null,
   "metadata": {},
   "outputs": [],
   "source": [
    "#pixscale, wise_pixscale = 2.75, galex_pixscale = 1.5\n",
    "pixscale = 0.262\n",
    "filt2pixscalefactor = {'g': 1.0, 'r': 1.0, 'z': 1.0, 'g_pixscale': pixscale,\n",
    "                       'r_pixscale': pixscale, 'z_pixscale': pixscale}\n",
    "factor = pixscale / data['galex_pixscale']\n",
    "filt2pixscalefactor.update({'FUV': factor, 'NUV': factor, 'FUV_pixscale': data['galex_pixscale'],\n",
    "                            'NUV_pixscale': data['galex_pixscale']})\n",
    "        \n",
    "factor = pixscale / data['unwise_pixscale']\n",
    "filt2pixscalefactor.update({'W1': factor, 'W2': factor, 'W3': factor, 'W4': factor,\n",
    "                            'W1_pixscale': data['unwise_pixscale'], 'W2_pixscale': data['unwise_pixscale'],\n",
    "                            'W3_pixscale': data['unwise_pixscale'], 'W4_pixscale': data['unwise_pixscale']})"
   ]
  },
  {
   "cell_type": "code",
   "execution_count": null,
   "metadata": {},
   "outputs": [],
   "source": [
    "phot = []\n",
    "radius = 1400 # [grz pixels]\n",
    "for filt in bands:\n",
    "    pixscale = filt2pixscalefactor['{}_pixscale'.format(filt)]\n",
    "    pixscalefactor = filt2pixscalefactor[filt]\n",
    "    img = ma.getdata(data['{}_masked'.format(filt)]) # [nanomaggies/arcsec2]\n",
    "    mask = ma.getmask(data['{}_masked'.format(filt)])\n",
    "    x0, y0 = np.array(img.shape) // 2 * pixscalefactor\n",
    "    rad = radius * pixscalefactor\n",
    "    print(filt, img.shape, x0, y0, rad)\n",
    "    phot1 = LSLGA.ellipse.apphot_one(img, mask, 0.0, x0, y0, rad, rad, pixscale)\n",
    "    phot.append(phot1)"
   ]
  },
  {
   "cell_type": "code",
   "execution_count": null,
   "metadata": {},
   "outputs": [],
   "source": [
    "phot"
   ]
  },
  {
   "cell_type": "code",
   "execution_count": null,
   "metadata": {},
   "outputs": [],
   "source": [
    "stop"
   ]
  },
  {
   "cell_type": "code",
   "execution_count": null,
   "metadata": {},
   "outputs": [],
   "source": [
    "plt.imshow(np.log10(data['W4']), origin='lower')"
   ]
  },
  {
   "cell_type": "code",
   "execution_count": null,
   "metadata": {},
   "outputs": [],
   "source": [
    "ell = LSLGA.io.read_ellipsefit(gal, galdir, verbose=True)\n",
    "pngfile = os.path.join(adapdir, 'ngc5322-sbprofile.png')\n",
    "LSLGA.qa.display_ellipse_sbprofile(ell, png=pngfile, verbose=True)\n",
    "pngfile = os.path.join(adapdir, 'ngc5322-cog.png')\n",
    "LSLGA.qa_curveofgrowth(ell, png=pngfile, verbose=True)"
   ]
  },
  {
   "cell_type": "markdown",
   "metadata": {},
   "source": [
    "### Read dr8 catalogs."
   ]
  },
  {
   "cell_type": "code",
   "execution_count": 8,
   "metadata": {},
   "outputs": [
    {
     "name": "stdout",
     "output_type": "stream",
     "text": [
      "Read galaxy indices 0 through 532706 (N=532707) from /Users/ioannis/research/projects/LSLGA/sample/v2.0/LSLGA-v2.0.fits\n"
     ]
    },
    {
     "data": {
      "text/html": [
       "<i>Table length=3</i>\n",
       "<table id=\"table112159338848\" class=\"table-striped table-bordered table-condensed\">\n",
       "<thead><tr><th>LSLGA_ID</th><th>GALAXY</th><th>PGC</th><th>RA</th><th>DEC</th><th>TYPE</th><th>BAR</th><th>RING</th><th>MULTIPLE</th><th>COMPACTNESS</th><th>T</th><th>PA</th><th>D25</th><th>BA</th><th>DIAM_REF</th><th>Z</th><th>SB_D25</th><th>MAG</th><th>MAG_REF</th><th>WISE_RA</th><th>WISE_DEC</th><th>CNTR</th><th>W1MPRO</th><th>W1SIGMPRO</th><th>W2MPRO</th><th>W2SIGMPRO</th><th>W3MPRO</th><th>W3SIGMPRO</th><th>W4MPRO</th><th>W4SIGMPRO</th><th>RCHI2</th><th>CC_FLAGS</th><th>EXT_FLG</th><th>PH_QUAL</th><th>XSCPROX</th><th>W1RSEMI</th><th>W1BA</th><th>W1PA</th><th>W1GMAG</th><th>W1GERR</th><th>W2GMAG</th><th>W2GERR</th><th>W3GMAG</th><th>W3GERR</th><th>W4GMAG</th><th>W4GERR</th><th>IN_ALLWISE</th><th>IN_DESI</th><th>NEAR_BRIGHTSTAR</th></tr></thead>\n",
       "<thead><tr><th>int64</th><th>bytes29</th><th>int64</th><th>float64</th><th>float64</th><th>bytes4</th><th>bytes3</th><th>bytes3</th><th>bytes3</th><th>bytes3</th><th>float32</th><th>float32</th><th>float32</th><th>float32</th><th>bytes3</th><th>float32</th><th>float32</th><th>float32</th><th>bytes1</th><th>float64</th><th>float64</th><th>int64</th><th>float64</th><th>float64</th><th>float64</th><th>float64</th><th>float64</th><th>float64</th><th>float64</th><th>float64</th><th>float32</th><th>bytes4</th><th>int32</th><th>bytes4</th><th>float64</th><th>float64</th><th>float64</th><th>float64</th><th>float64</th><th>float64</th><th>float64</th><th>float64</th><th>float64</th><th>float64</th><th>float64</th><th>float64</th><th>bool</th><th>bool</th><th>bool</th></tr></thead>\n",
       "<tr><td>2</td><td>PGC1283207</td><td>1283207</td><td>228.3770865</td><td>5.4232017</td><td>S?</td><td>nan</td><td>nan</td><td>nan</td><td>nan</td><td>0.9</td><td>152.2</td><td>0.36307806</td><td>0.724436</td><td>iso</td><td>0.03463229</td><td>23.40448</td><td>16.976</td><td>B</td><td>228.3771822</td><td>5.4228275</td><td>2278106001351000050</td><td>13.453</td><td>0.039</td><td>13.393</td><td>0.045</td><td>11.785</td><td>0.242</td><td>8.741</td><td>nan</td><td>1.088</td><td>0000</td><td>4</td><td>AABU</td><td>0.95</td><td>9.75</td><td>0.73</td><td>-25.0</td><td>13.27</td><td>0.01</td><td>13.334</td><td>0.02</td><td>12.209</td><td>0.183</td><td>10.103</td><td>0.835</td><td>True</td><td>True</td><td>False</td></tr>\n",
       "<tr><td>3</td><td>PGC1310416</td><td>1310416</td><td>202.54443750000002</td><td>6.9345944</td><td>Sc</td><td>nan</td><td>nan</td><td>M</td><td>nan</td><td>4.7</td><td>159.26</td><td>0.4017908</td><td>0.7816278</td><td>iso</td><td>0.073888786</td><td>23.498482</td><td>16.85</td><td>B</td><td>202.5444539</td><td>6.9345167</td><td>2028107501351007858</td><td>13.282</td><td>0.025</td><td>13.109</td><td>0.028</td><td>9.197</td><td>0.03</td><td>7.024</td><td>0.098</td><td>2.075</td><td>0000</td><td>5</td><td>AAAA</td><td>0.51</td><td>9.36</td><td>0.79</td><td>-10.0</td><td>13.214</td><td>0.01</td><td>13.069</td><td>0.021</td><td>9.695</td><td>0.024</td><td>7.485</td><td>0.104</td><td>True</td><td>True</td><td>False</td></tr>\n",
       "<tr><td>4</td><td>SDSSJ145059.93+135143.0</td><td>4435547</td><td>222.749787</td><td>13.8619111</td><td>S?</td><td>nan</td><td>nan</td><td>nan</td><td>nan</td><td>5.0</td><td>44.57</td><td>0.33342642</td><td>0.6637431</td><td>iso</td><td>0.07567602</td><td>24.457481</td><td>18.214</td><td>B</td><td>222.7496762</td><td>13.8620163</td><td>2234113601351039304</td><td>14.829</td><td>0.029</td><td>14.596</td><td>0.049</td><td>11.637</td><td>0.165</td><td>8.57</td><td>nan</td><td>1.155</td><td>0000</td><td>0</td><td>AABU</td><td>nan</td><td>nan</td><td>nan</td><td>nan</td><td>nan</td><td>nan</td><td>nan</td><td>nan</td><td>nan</td><td>nan</td><td>nan</td><td>nan</td><td>True</td><td>True</td><td>False</td></tr>\n",
       "</table>"
      ],
      "text/plain": [
       "<Table length=3>\n",
       "LSLGA_ID          GALAXY           PGC   ... IN_ALLWISE IN_DESI NEAR_BRIGHTSTAR\n",
       " int64           bytes29          int64  ...    bool      bool        bool     \n",
       "-------- ----------------------- ------- ... ---------- ------- ---------------\n",
       "       2              PGC1283207 1283207 ...       True    True           False\n",
       "       3              PGC1310416 1310416 ...       True    True           False\n",
       "       4 SDSSJ145059.93+135143.0 4435547 ...       True    True           False"
      ]
     },
     "execution_count": 8,
     "metadata": {},
     "output_type": "execute_result"
    }
   ],
   "source": [
    "lslga = LSLGA.io.read_parent(verbose=True)\n",
    "lslga[:3]"
   ]
  },
  {
   "cell_type": "code",
   "execution_count": 9,
   "metadata": {},
   "outputs": [
    {
     "data": {
      "text/html": [
       "<i>Table length=991567</i>\n",
       "<table id=\"table112339608520\" class=\"table-striped table-bordered table-condensed\">\n",
       "<thead><tr><th>galaxy</th><th>brickname</th><th>objid</th><th>ra</th><th>dec</th><th>ra_lslga</th><th>dec_lslga</th><th>maskbits</th><th>allmask_g</th><th>allmask_r</th><th>allmask_z</th><th>fracdev</th><th>rmag</th><th>gr</th><th>rz</th><th>sb</th><th>reff</th><th>ref_cat</th><th>type</th><th>morphtype</th><th>ref_id</th></tr></thead>\n",
       "<thead><tr><th>bytes29</th><th>bytes8</th><th>int32</th><th>float64</th><th>float64</th><th>float64</th><th>float64</th><th>int16</th><th>int16</th><th>int16</th><th>int16</th><th>float32</th><th>float32</th><th>float32</th><th>float32</th><th>float32</th><th>float32</th><th>bytes2</th><th>bytes4</th><th>bytes4</th><th>int64</th></tr></thead>\n",
       "<tr><td></td><td>1826p447</td><td>224</td><td>182.68180460717596</td><td>44.63971416264253</td><td>0.0</td><td>0.0</td><td>0</td><td>0</td><td>0</td><td>0</td><td>0.0</td><td>19.526407</td><td>1.0528812</td><td>0.6700516</td><td>22.055576</td><td>1.2786272</td><td></td><td>EXP</td><td></td><td>0</td></tr>\n",
       "<tr><td></td><td>1826p447</td><td>323</td><td>182.734087145654</td><td>44.64727891648112</td><td>0.0</td><td>0.0</td><td>0</td><td>0</td><td>0</td><td>0</td><td>1.0</td><td>19.876667</td><td>1.24893</td><td>0.6837368</td><td>20.49625</td><td>0.5306726</td><td></td><td>DEV</td><td></td><td>0</td></tr>\n",
       "<tr><td></td><td>1826p447</td><td>388</td><td>182.5347838907106</td><td>44.65183287316244</td><td>0.0</td><td>0.0</td><td>0</td><td>0</td><td>0</td><td>0</td><td>1.0</td><td>18.895191</td><td>-0.10537338</td><td>-0.29808426</td><td>21.516804</td><td>1.3342359</td><td>G2</td><td>DEV</td><td></td><td>1539272676378802432</td></tr>\n",
       "<tr><td></td><td>1826p447</td><td>421</td><td>182.63389945179645</td><td>44.654964438288786</td><td>0.0</td><td>0.0</td><td>0</td><td>0</td><td>0</td><td>0</td><td>0.0</td><td>19.70515</td><td>1.373642</td><td>0.9698944</td><td>23.139236</td><td>1.9396666</td><td></td><td>EXP</td><td></td><td>0</td></tr>\n",
       "<tr><td></td><td>1826p447</td><td>445</td><td>182.52785883557556</td><td>44.65559691243577</td><td>0.0</td><td>0.0</td><td>0</td><td>0</td><td>0</td><td>0</td><td>1.0</td><td>19.824081</td><td>1.5297871</td><td>0.9595909</td><td>22.241543</td><td>1.2145139</td><td></td><td>DEV</td><td></td><td>0</td></tr>\n",
       "<tr><td></td><td>1826p447</td><td>470</td><td>182.5042161324661</td><td>44.660632361743346</td><td>0.0</td><td>0.0</td><td>0</td><td>0</td><td>0</td><td>0</td><td>0.0</td><td>16.95381</td><td>0.40322495</td><td>0.23479843</td><td>21.177313</td><td>2.7900417</td><td></td><td>EXP</td><td></td><td>0</td></tr>\n",
       "<tr><td></td><td>1826p447</td><td>514</td><td>182.7334743956679</td><td>44.66164929056454</td><td>0.0</td><td>0.0</td><td>0</td><td>0</td><td>0</td><td>0</td><td>0.0</td><td>18.662315</td><td>1.3109436</td><td>0.7883339</td><td>21.809208</td><td>1.6993719</td><td></td><td>EXP</td><td></td><td>0</td></tr>\n",
       "<tr><td></td><td>1826p447</td><td>526</td><td>182.55887930139295</td><td>44.66679261216065</td><td>0.0</td><td>0.0</td><td>0</td><td>0</td><td>0</td><td>0</td><td>0.0</td><td>17.904219</td><td>0.29933357</td><td>0.21159935</td><td>22.262344</td><td>2.9684887</td><td></td><td>EXP</td><td></td><td>0</td></tr>\n",
       "<tr><td></td><td>1826p447</td><td>533</td><td>182.56028446202632</td><td>44.66579674443126</td><td>0.0</td><td>0.0</td><td>0</td><td>0</td><td>0</td><td>0</td><td>1.0</td><td>16.442135</td><td>0.34840393</td><td>0.065467834</td><td>20.832365</td><td>3.0127015</td><td>G2</td><td>DEV</td><td></td><td>1539272749393691136</td></tr>\n",
       "<tr><td></td><td>1826p447</td><td>535</td><td>182.7581026549546</td><td>44.66312421922958</td><td>0.0</td><td>0.0</td><td>0</td><td>0</td><td>0</td><td>0</td><td>0.0</td><td>19.466755</td><td>1.2719955</td><td>0.7868843</td><td>22.068094</td><td>1.3218366</td><td></td><td>EXP</td><td></td><td>0</td></tr>\n",
       "<tr><td>...</td><td>...</td><td>...</td><td>...</td><td>...</td><td>...</td><td>...</td><td>...</td><td>...</td><td>...</td><td>...</td><td>...</td><td>...</td><td>...</td><td>...</td><td>...</td><td>...</td><td>...</td><td>...</td><td>...</td><td>...</td></tr>\n",
       "<tr><td></td><td>1442p450</td><td>1164</td><td>144.17368093576826</td><td>44.967782541455485</td><td>0.0</td><td>0.0</td><td>0</td><td>0</td><td>0</td><td>0</td><td>0.0</td><td>18.94018</td><td>0.82608795</td><td>0.52968025</td><td>21.124289</td><td>1.0907668</td><td></td><td>EXP</td><td></td><td>0</td></tr>\n",
       "<tr><td></td><td>1442p450</td><td>1203</td><td>144.41511961202767</td><td>44.96969699349054</td><td>0.0</td><td>0.0</td><td>0</td><td>0</td><td>0</td><td>0</td><td>1.0</td><td>19.938328</td><td>1.7356682</td><td>0.8544464</td><td>21.088501</td><td>0.6775555</td><td></td><td>DEV</td><td></td><td>0</td></tr>\n",
       "<tr><td></td><td>1442p450</td><td>1218</td><td>144.3650294935383</td><td>44.971617116150796</td><td>0.0</td><td>0.0</td><td>0</td><td>0</td><td>0</td><td>0</td><td>1.0</td><td>19.450212</td><td>1.6679993</td><td>0.89761734</td><td>22.422297</td><td>1.5679312</td><td></td><td>DEV</td><td></td><td>0</td></tr>\n",
       "<tr><td></td><td>1442p450</td><td>1235</td><td>144.37090548740326</td><td>44.97209307374086</td><td>0.0</td><td>0.0</td><td>0</td><td>0</td><td>0</td><td>0</td><td>0.0</td><td>19.500107</td><td>0.35783005</td><td>0.22411728</td><td>24.129864</td><td>3.3640416</td><td></td><td>EXP</td><td></td><td>0</td></tr>\n",
       "<tr><td></td><td>1442p450</td><td>1289</td><td>144.11652615515794</td><td>44.97741501006037</td><td>0.0</td><td>0.0</td><td>0</td><td>0</td><td>0</td><td>0</td><td>0.0</td><td>19.769325</td><td>0.40602112</td><td>0.24468803</td><td>24.587212</td><td>3.6684906</td><td></td><td>EXP</td><td></td><td>0</td></tr>\n",
       "<tr><td></td><td>1442p450</td><td>1321</td><td>144.15731859501372</td><td>44.97904291391429</td><td>0.0</td><td>0.0</td><td>0</td><td>0</td><td>0</td><td>0</td><td>1.0</td><td>19.453905</td><td>1.5467129</td><td>0.73791885</td><td>20.673326</td><td>0.6995109</td><td></td><td>DEV</td><td></td><td>0</td></tr>\n",
       "<tr><td></td><td>1442p450</td><td>1401</td><td>144.193851442847</td><td>44.98582074106158</td><td>0.0</td><td>0.0</td><td>0</td><td>0</td><td>0</td><td>0</td><td>1.0</td><td>19.005087</td><td>1.2356796</td><td>0.8468609</td><td>22.436798</td><td>1.9375477</td><td></td><td>DEV</td><td></td><td>0</td></tr>\n",
       "<tr><td></td><td>1442p450</td><td>1433</td><td>144.08517754708268</td><td>44.98916018127893</td><td>0.0</td><td>0.0</td><td>0</td><td>0</td><td>0</td><td>0</td><td>1.0</td><td>19.44065</td><td>1.7550831</td><td>0.84509087</td><td>22.24491</td><td>1.4513148</td><td></td><td>DEV</td><td></td><td>0</td></tr>\n",
       "<tr><td></td><td>1442p450</td><td>1434</td><td>144.08729140285138</td><td>44.98951347482577</td><td>0.0</td><td>0.0</td><td>0</td><td>0</td><td>0</td><td>0</td><td>1.0</td><td>19.380018</td><td>1.7297039</td><td>0.98897743</td><td>22.732327</td><td>1.8679775</td><td></td><td>DEV</td><td></td><td>0</td></tr>\n",
       "<tr><td></td><td>1442p450</td><td>1472</td><td>144.1414099301154</td><td>44.99119971265779</td><td>0.0</td><td>0.0</td><td>0</td><td>0</td><td>0</td><td>0</td><td>1.0</td><td>19.18573</td><td>1.708128</td><td>0.7400074</td><td>20.71127</td><td>0.8054119</td><td></td><td>DEV</td><td></td><td>0</td></tr>\n",
       "</table>"
      ],
      "text/plain": [
       "<Table length=991567>\n",
       " galaxy brickname objid ...  type  morphtype        ref_id      \n",
       "bytes29   bytes8  int32 ... bytes4   bytes4         int64       \n",
       "------- --------- ----- ... ------ --------- -------------------\n",
       "         1826p447   224 ...    EXP                             0\n",
       "         1826p447   323 ...    DEV                             0\n",
       "         1826p447   388 ...    DEV           1539272676378802432\n",
       "         1826p447   421 ...    EXP                             0\n",
       "         1826p447   445 ...    DEV                             0\n",
       "         1826p447   470 ...    EXP                             0\n",
       "         1826p447   514 ...    EXP                             0\n",
       "         1826p447   526 ...    EXP                             0\n",
       "         1826p447   533 ...    DEV           1539272749393691136\n",
       "         1826p447   535 ...    EXP                             0\n",
       "    ...       ...   ... ...    ...       ...                 ...\n",
       "         1442p450  1164 ...    EXP                             0\n",
       "         1442p450  1203 ...    DEV                             0\n",
       "         1442p450  1218 ...    DEV                             0\n",
       "         1442p450  1235 ...    EXP                             0\n",
       "         1442p450  1289 ...    EXP                             0\n",
       "         1442p450  1321 ...    DEV                             0\n",
       "         1442p450  1401 ...    DEV                             0\n",
       "         1442p450  1433 ...    DEV                             0\n",
       "         1442p450  1434 ...    DEV                             0\n",
       "         1442p450  1472 ...    DEV                             0"
      ]
     },
     "execution_count": 9,
     "metadata": {},
     "output_type": "execute_result"
    }
   ],
   "source": [
    "#cat = LSLGA.NLSA.read_nlsa_parent()\n",
    "camera = '90prime-mosaic'\n",
    "samplefile = os.path.join(LSLGA.NLSA.sample_dir(), 'NLSA-{}-v1.2.fits'.format(camera))\n",
    "cat = Table(fitsio.read(samplefile, lower=True))\n",
    "cat"
   ]
  },
  {
   "cell_type": "code",
   "execution_count": 10,
   "metadata": {},
   "outputs": [
    {
     "data": {
      "text/html": [
       "<i>Table length=22712</i>\n",
       "<table id=\"table112339814328\" class=\"table-striped table-bordered table-condensed\">\n",
       "<thead><tr><th>galaxy</th><th>brickname</th><th>objid</th><th>ra</th><th>dec</th><th>ra_lslga</th><th>dec_lslga</th><th>maskbits</th><th>allmask_g</th><th>allmask_r</th><th>allmask_z</th><th>fracdev</th><th>rmag</th><th>gr</th><th>rz</th><th>sb</th><th>reff</th><th>ref_cat</th><th>type</th><th>morphtype</th><th>ref_id</th></tr></thead>\n",
       "<thead><tr><th>bytes29</th><th>bytes8</th><th>int32</th><th>float64</th><th>float64</th><th>float64</th><th>float64</th><th>int16</th><th>int16</th><th>int16</th><th>int16</th><th>float32</th><th>float32</th><th>float32</th><th>float32</th><th>float32</th><th>float32</th><th>bytes2</th><th>bytes4</th><th>bytes4</th><th>int64</th></tr></thead>\n",
       "<tr><td>SDSSJ120927.91+435722.5</td><td>1822p440</td><td>1233</td><td>182.36628148141847</td><td>43.956256555462055</td><td>182.366379</td><td>43.956309600000004</td><td>4096</td><td>0</td><td>0</td><td>0</td><td>0.0</td><td>17.233551</td><td>0.6373787</td><td>0.44517326</td><td>22.043474</td><td>3.6550612</td><td>L2</td><td>EXP</td><td>S?</td><td>654665</td></tr>\n",
       "<tr><td>NGC4135</td><td>1822p440</td><td>1827</td><td>182.2866169251734</td><td>44.003191263865226</td><td>182.2867335</td><td>44.0031946</td><td>4096</td><td>0</td><td>0</td><td>0</td><td>0.04330812</td><td>13.748771</td><td>0.64966965</td><td>0.4590788</td><td>20.53558</td><td>9.083896</td><td>L2</td><td>COMP</td><td>SABb</td><td>116802</td></tr>\n",
       "<tr><td>PGC038629</td><td>1822p440</td><td>2799</td><td>182.3589707162256</td><td>44.07326780220273</td><td>182.3589705</td><td>44.0732974</td><td>4096</td><td>0</td><td>0</td><td>0</td><td>1.0</td><td>14.6043415</td><td>0.6699505</td><td>0.50763226</td><td>21.312721</td><td>8.761653</td><td>L2</td><td>DEV</td><td>SBbc</td><td>257685</td></tr>\n",
       "<tr><td>NGC4137</td><td>1822p440</td><td>2971</td><td>182.323070962058</td><td>44.090236951213654</td><td>182.32288649999998</td><td>44.0901584</td><td>4096</td><td>0</td><td>0</td><td>0</td><td>0.0</td><td>14.1009245</td><td>0.5168333</td><td>0.34761906</td><td>21.526741</td><td>12.191956</td><td>L2</td><td>EXP</td><td>Sc</td><td>375848</td></tr>\n",
       "<tr><td>PGC200283</td><td>1822p440</td><td>2972</td><td>182.3100699252788</td><td>44.09054763432598</td><td>182.3100135</td><td>44.090561</td><td>4096</td><td>0</td><td>0</td><td>0</td><td>0.36574298</td><td>16.699375</td><td>0.60277176</td><td>0.4132309</td><td>21.894644</td><td>4.364794</td><td>L2</td><td>COMP</td><td>Sd</td><td>202901</td></tr>\n",
       "<tr><td>SDSSJ121218.24+440909.7</td><td>1829p442</td><td>418</td><td>183.07594396972334</td><td>44.1526826361592</td><td>183.075966</td><td>44.152655700000004</td><td>4096</td><td>0</td><td>0</td><td>0</td><td>1.0</td><td>16.196342</td><td>0.5552025</td><td>0.40236855</td><td>25.031927</td><td>23.336037</td><td>L2</td><td>DEV</td><td>S?</td><td>373278</td></tr>\n",
       "<tr><td>SDSSJ121222.29+441644.8</td><td>1829p442</td><td>2329</td><td>183.09274253146683</td><td>44.279123220400315</td><td>183.09286799999998</td><td>44.27908370000001</td><td>4096</td><td>0</td><td>0</td><td>0</td><td>0.0</td><td>16.515266</td><td>0.4893837</td><td>0.26633453</td><td>23.10031</td><td>8.277871</td><td>L2</td><td>EXP</td><td>SBcd</td><td>16220</td></tr>\n",
       "<tr><td>2MASXJ12114074+4418035</td><td>1829p442</td><td>2607</td><td>182.91973209288898</td><td>44.30105597185797</td><td>182.9197965</td><td>44.301066600000006</td><td>4096</td><td>0</td><td>0</td><td>0</td><td>1.0</td><td>17.221844</td><td>1.1120262</td><td>0.80763245</td><td>21.274532</td><td>2.5789797</td><td>L2</td><td>DEV</td><td>nan</td><td>1085697</td></tr>\n",
       "<tr><td>2MASXJ12122639+4421047</td><td>1829p442</td><td>3211</td><td>183.11005362431263</td><td>44.35116071625915</td><td>183.110091</td><td>44.351208299999996</td><td>4096</td><td>0</td><td>0</td><td>0</td><td>1.0</td><td>16.523638</td><td>1.0666485</td><td>0.7393007</td><td>20.445122</td><td>2.4277666</td><td>L2</td><td>DEV</td><td>E</td><td>844323</td></tr>\n",
       "<tr><td>SDSSJ121213.58+440032.1</td><td>1829p440</td><td>1822</td><td>183.05678821349306</td><td>44.00886708660615</td><td>183.0565635</td><td>44.0089491</td><td>4096</td><td>0</td><td>0</td><td>0</td><td>0.0</td><td>17.275984</td><td>0.3661213</td><td>0.2797718</td><td>22.659744</td><td>4.760604</td><td>L2</td><td>EXP</td><td>S?</td><td>474716</td></tr>\n",
       "<tr><td>...</td><td>...</td><td>...</td><td>...</td><td>...</td><td>...</td><td>...</td><td>...</td><td>...</td><td>...</td><td>...</td><td>...</td><td>...</td><td>...</td><td>...</td><td>...</td><td>...</td><td>...</td><td>...</td><td>...</td><td>...</td></tr>\n",
       "<tr><td>PGC2184125</td><td>1447p417</td><td>23</td><td>144.62263523266859</td><td>41.62738350233325</td><td>144.6224925</td><td>41.6273593</td><td>4096</td><td>0</td><td>0</td><td>0</td><td>1.0</td><td>15.557013</td><td>0.7855091</td><td>0.57473946</td><td>23.110191</td><td>12.928433</td><td>L2</td><td>DEV</td><td>Sc</td><td>1322917</td></tr>\n",
       "<tr><td>PGC2184893</td><td>1447p417</td><td>600</td><td>144.6804289412778</td><td>41.67119766817371</td><td>144.68043749999998</td><td>41.671205</td><td>4096</td><td>0</td><td>0</td><td>0</td><td>1.0</td><td>14.956129</td><td>0.961009</td><td>0.6480999</td><td>19.961746</td><td>3.9997582</td><td>L2</td><td>DEV</td><td>S0</td><td>550021</td></tr>\n",
       "<tr><td>PGC027505</td><td>1447p417</td><td>878</td><td>144.7053938822122</td><td>41.68918568425197</td><td>144.705414</td><td>41.6891297</td><td>4096</td><td>0</td><td>0</td><td>0</td><td>0.0</td><td>15.897127</td><td>0.8661518</td><td>0.6750946</td><td>22.457073</td><td>8.182749</td><td>L2</td><td>EXP</td><td>Sc</td><td>816812</td></tr>\n",
       "<tr><td>PGC2185111</td><td>1441p417</td><td>783</td><td>144.0212479391465</td><td>41.684462503464985</td><td>144.021201</td><td>41.68448529999999</td><td>4096</td><td>0</td><td>0</td><td>0</td><td>1.0</td><td>15.399823</td><td>0.9217367</td><td>0.65607166</td><td>20.000912</td><td>3.3199203</td><td>L2</td><td>DEV</td><td>E</td><td>197633</td></tr>\n",
       "<tr><td>SDSSJ093637.17+414229.6</td><td>1441p417</td><td>1039</td><td>144.15494385856766</td><td>41.70831413750906</td><td>144.15488850000003</td><td>41.7082688</td><td>4096</td><td>0</td><td>0</td><td>0</td><td>1.0</td><td>16.874966</td><td>0.8814316</td><td>0.682312</td><td>25.765411</td><td>23.933102</td><td>L2</td><td>DEV</td><td>nan</td><td>1118285</td></tr>\n",
       "<tr><td>PGC2234753</td><td>1445p440</td><td>1886</td><td>144.49420626841703</td><td>44.02551233519681</td><td>144.494118</td><td>44.0254989</td><td>4096</td><td>0</td><td>0</td><td>0</td><td>1.0</td><td>16.080002</td><td>1.0746841</td><td>0.69408417</td><td>20.684677</td><td>3.3254077</td><td>L2</td><td>DEV</td><td>E</td><td>387306</td></tr>\n",
       "<tr><td>PGC2204953</td><td>1448p427</td><td>1534</td><td>144.8090948514398</td><td>42.72991887921386</td><td>144.809079</td><td>42.7298891</td><td>4096</td><td>0</td><td>0</td><td>0</td><td>1.0</td><td>15.848471</td><td>0.7852154</td><td>0.55828094</td><td>21.46624</td><td>5.3022943</td><td>L2</td><td>DEV</td><td>E</td><td>908664</td></tr>\n",
       "<tr><td>2MASXJ09380656+4159071</td><td>1446p420</td><td>1358</td><td>144.52738826499834</td><td>41.985380450782706</td><td>144.5273985</td><td>41.9853811</td><td>4096</td><td>0</td><td>0</td><td>0</td><td>1.0</td><td>16.419964</td><td>0.91362953</td><td>0.69034004</td><td>20.855309</td><td>3.0759492</td><td>L2</td><td>DEV</td><td>S?</td><td>997785</td></tr>\n",
       "<tr><td>PGC2191778</td><td>1446p420</td><td>2307</td><td>144.6112708735326</td><td>42.06613907845356</td><td>144.61133249999997</td><td>42.066189</td><td>4096</td><td>0</td><td>0</td><td>0</td><td>1.0</td><td>17.196146</td><td>0.88752747</td><td>0.7564411</td><td>22.604128</td><td>4.814004</td><td>L2</td><td>DEV</td><td>nan</td><td>185171</td></tr>\n",
       "<tr><td>2MASXJ09382795+4214241</td><td>1445p422</td><td>1601</td><td>144.6164415652463</td><td>42.24010665742299</td><td>144.61642799999998</td><td>42.2400882</td><td>4096</td><td>0</td><td>0</td><td>0</td><td>1.0</td><td>16.332388</td><td>0.7581997</td><td>0.5344019</td><td>23.035072</td><td>8.738705</td><td>L2</td><td>DEV</td><td>Sb</td><td>840905</td></tr>\n",
       "</table>"
      ],
      "text/plain": [
       "<Table length=22712>\n",
       "         galaxy         brickname objid ...  type  morphtype  ref_id\n",
       "        bytes29           bytes8  int32 ... bytes4   bytes4   int64 \n",
       "----------------------- --------- ----- ... ------ --------- -------\n",
       "SDSSJ120927.91+435722.5  1822p440  1233 ...    EXP        S?  654665\n",
       "                NGC4135  1822p440  1827 ...   COMP      SABb  116802\n",
       "              PGC038629  1822p440  2799 ...    DEV      SBbc  257685\n",
       "                NGC4137  1822p440  2971 ...    EXP        Sc  375848\n",
       "              PGC200283  1822p440  2972 ...   COMP        Sd  202901\n",
       "SDSSJ121218.24+440909.7  1829p442   418 ...    DEV        S?  373278\n",
       "SDSSJ121222.29+441644.8  1829p442  2329 ...    EXP      SBcd   16220\n",
       " 2MASXJ12114074+4418035  1829p442  2607 ...    DEV       nan 1085697\n",
       " 2MASXJ12122639+4421047  1829p442  3211 ...    DEV         E  844323\n",
       "SDSSJ121213.58+440032.1  1829p440  1822 ...    EXP        S?  474716\n",
       "                    ...       ...   ... ...    ...       ...     ...\n",
       "             PGC2184125  1447p417    23 ...    DEV        Sc 1322917\n",
       "             PGC2184893  1447p417   600 ...    DEV        S0  550021\n",
       "              PGC027505  1447p417   878 ...    EXP        Sc  816812\n",
       "             PGC2185111  1441p417   783 ...    DEV         E  197633\n",
       "SDSSJ093637.17+414229.6  1441p417  1039 ...    DEV       nan 1118285\n",
       "             PGC2234753  1445p440  1886 ...    DEV         E  387306\n",
       "             PGC2204953  1448p427  1534 ...    DEV         E  908664\n",
       " 2MASXJ09380656+4159071  1446p420  1358 ...    DEV        S?  997785\n",
       "             PGC2191778  1446p420  2307 ...    DEV       nan  185171\n",
       " 2MASXJ09382795+4214241  1445p422  1601 ...    DEV        Sb  840905"
      ]
     },
     "execution_count": 10,
     "metadata": {},
     "output_type": "execute_result"
    }
   ],
   "source": [
    "cat[cat['ref_cat'] == 'L2']"
   ]
  },
  {
   "cell_type": "code",
   "execution_count": 11,
   "metadata": {},
   "outputs": [],
   "source": [
    "ww = np.where(['NGC' in gg or 'UGC' in gg for gg in cat['galaxy']])[0]\n",
    "#cat[ww]"
   ]
  },
  {
   "cell_type": "code",
   "execution_count": 12,
   "metadata": {},
   "outputs": [
    {
     "name": "stdout",
     "output_type": "stream",
     "text": [
      "Choosing a random subset of galaxies!\n"
     ]
    },
    {
     "data": {
      "text/plain": [
       "array([18.966854, 19.673931, 19.804016, 20.31988 , 20.330528, 20.438385,\n",
       "       20.449326, 20.503342, 20.53558 , 20.556389, 21.19166 , 21.30481 ,\n",
       "       21.781164, 21.834414, 21.873726, 22.072304, 22.485153, 22.576626,\n",
       "       22.92656 , 23.009998, 23.210407, 23.290321, 23.6867  , 23.710928,\n",
       "       23.743595, 23.8909  , 23.928104, 24.07245 , 24.496325, 25.71668 ,\n",
       "       25.81657 , 26.008656, 26.1675  , 26.582638, 26.594555],\n",
       "      dtype=float32)"
      ]
     },
     "execution_count": 12,
     "metadata": {},
     "output_type": "execute_result"
    },
    {
     "data": {
      "image/png": "[encoded data removed]",
      "text/plain": [
       "<matplotlib.figure.Figure at 0x1a27f98630>"
      ]
     },
     "metadata": {},
     "output_type": "display_data"
    }
   ],
   "source": [
    "ss = LSLGA.NLSA.read_nlsa_parent(proposal=True)\n",
    "_ = plt.hist(ss['SB'], bins=50)\n",
    "ss['SB'].data"
   ]
  },
  {
   "cell_type": "code",
   "execution_count": null,
   "metadata": {},
   "outputs": [],
   "source": [
    "def ngc3938_ccdpos():\n",
    "    from astrometry.util.fits import fits_table\n",
    "    from legacypipe.survey import LegacySurveyData\n",
    "    def get_ccds():\n",
    "        survey = LegacySurveyData()\n",
    "        galaxy = 'NGC3938'\n",
    "        galaxydir = os.path.join(os.getenv('LSLGA_DIR'), 'NLSA', '8', '0', '85', galaxy)\n",
    "        ccdsfile = os.path.join(galaxydir, '{}-ccds.fits'.format(galaxy))\n",
    "        ccds = survey.cleanup_ccds_table(fits_table(ccdsfile))\n",
    "        return ccds\n",
    "    ccds = ngc3938_ccdpos()\n",
    "    import LSLGA.NLSA\n",
    "    import LSLGA.qa\n",
    "    onegal = LSLGA.NLSA.read_nlsa_parent(montage=True, first=0, last=0)[0]\n",
    "    LSLGA.qa.display_ccdpos(onegal, ccds, png='ccdpos-ngc3938.png', radius=196)"
   ]
  },
  {
   "cell_type": "code",
   "execution_count": null,
   "metadata": {},
   "outputs": [],
   "source": [
    "ww = ['NGC5322' in gg.strip() for gg in cat['galaxy']]\n",
    "cat[ww]"
   ]
  },
  {
   "cell_type": "code",
   "execution_count": null,
   "metadata": {},
   "outputs": [],
   "source": [
    "#ww = ['3938' in gg.strip() for gg in cat['galaxy']]\n",
    "#from astrometry.libkd.spherematch import match_radec\n",
    "#m1, m2, d12 = match_radec(cat['ra'], cat['dec'], 178.205851, 44.120774, 3/3600.0, nearest=True)\n",
    "#cat[m1]"
   ]
  },
  {
   "cell_type": "code",
   "execution_count": null,
   "metadata": {},
   "outputs": [],
   "source": [
    "def ngc3938_montage():\n",
    "    montagefile = os.path.join(adapdir, 'ngc3938-montage.png')\n",
    "    gal = 'NGC3938'\n",
    "    galdir = os.path.join(os.getenv('LSLGA_DIR'), 'NLSA', '8', '0', '85', gal)\n",
    "    infiles = []\n",
    "    for bands in ('FUVNUV', 'grz', 'image-W1W2'):\n",
    "        for imtype in ('image-FUVNUV', 'pipeline-image-grz', 'image-W1W2'):\n",
    "            infiles.append(os.path.join(galdir, '{}-{}.jpg'.format(gal, bands)))\n",
    "    ncol = 4\n",
    "    nrow = 3\n",
    "    \n",
    "    cmd = 'montage -bordercolor white -borderwidth 1 -tile {}x{} -geometry 512x512 '.format(ncol, nrow)\n",
    "    cmd = cmd+' '.join([inff for inff in infiles])\n",
    "    cmd = cmd+' {}'.format(montagefile)\n",
    "    print(cmd)\n",
    "    os.system(cmd)        \n",
    "    print('Writing {}'.format(montagefile))"
   ]
  },
  {
   "cell_type": "code",
   "execution_count": null,
   "metadata": {},
   "outputs": [],
   "source": [
    "#ngc3938_montage()"
   ]
  },
  {
   "cell_type": "code",
   "execution_count": 13,
   "metadata": {},
   "outputs": [],
   "source": [
    "def sample_montage():\n",
    "    \"\"\"Show a random sampling of galaxies.\"\"\"\n",
    "    montagefile = os.path.join(adapdir, 'sample-montage.png')\n",
    "\n",
    "    ss = LSLGA.NLSA.read_nlsa_parent(proposal=True)\n",
    "    #these = rand.choice(len(ss), 35, replace=False)\n",
    "    #ss = ss[these]\n",
    "    ss = ss[np.argsort(ss['SB'])]\n",
    "        \n",
    "    gal, galdir = LSLGA.NLSA.get_galaxy_galaxydir(ss)\n",
    "    infiles = []\n",
    "    for gal1, galdir1 in zip(gal, galdir):\n",
    "        infile1 = os.path.join(galdir1, '{}-pipeline-image-grz.jpg'.format(gal1))\n",
    "        if not os.path.isfile(infile1):\n",
    "            infile1 = os.path.join(adapdir, 'smiley.jpg')\n",
    "        infiles.append(infile1)\n",
    "    ncol = 7\n",
    "    nrow = 5\n",
    "    \n",
    "    #cmd = 'montage -tile {}x{} -geometry 128x128 '.format(ncol, nrow)\n",
    "    cmd = 'montage -bordercolor white -borderwidth 1 -tile {}x{} -geometry 256x256 '.format(ncol, nrow)\n",
    "    cmd = cmd+' '.join([inff for inff in infiles])\n",
    "    cmd = cmd+' {}'.format(montagefile)\n",
    "    print(cmd)\n",
    "    os.system(cmd)        \n",
    "    print('Writing {}'.format(montagefile))"
   ]
  },
  {
   "cell_type": "code",
   "execution_count": 16,
   "metadata": {},
   "outputs": [
    {
     "name": "stdout",
     "output_type": "stream",
     "text": [
      "Choosing a random subset of galaxies!\n",
      "montage -bordercolor white -borderwidth 1 -tile 7x5 -geometry 256x256 /Users/ioannis/research/projects/LSLGA/NLSA/8/0/93/UGC06732/UGC06732-pipeline-image-grz.jpg /Users/ioannis/research/projects/LSLGA/NLSA/8/0/85/PGC036994/PGC036994-pipeline-image-grz.jpg /Users/ioannis/research/projects/LSLGA/NLSA/8/1/113/PGC026535/PGC026535-pipeline-image-grz.jpg /Users/ioannis/research/projects/LSLGA/NLSA/8/1/168/PGC2167342/PGC2167342-pipeline-image-grz.jpg /Users/ioannis/research/projects/LSLGA/NLSA/8/0/93/PGC037411/PGC037411-pipeline-image-grz.jpg /Users/ioannis/research/projects/LSLGA/NLSA/8/0/95/PGC034166/PGC034166-pipeline-image-grz.jpg /Users/ioannis/research/projects/LSLGA/NLSA/8/1/172/PGC3087334/PGC3087334-pipeline-image-grz.jpg /Users/ioannis/research/projects/LSLGA/NLSA/8/1/175/PGC042976/PGC042976-pipeline-image-grz.jpg /Users/ioannis/research/projects/LSLGA/NLSA/8/1/170/NGC4135/NGC4135-pipeline-image-grz.jpg /Users/ioannis/research/projects/LSLGA/NLSA/8/1/170/PGC2205105/PGC2205105-pipeline-image-grz.jpg /Users/ioannis/research/projects/LSLGA/NLSA/8/0/93/NGC3916/NGC3916-pipeline-image-grz.jpg /Users/ioannis/research/projects/LSLGA/NLSA/8/0/87/PGC2287620/PGC2287620-pipeline-image-grz.jpg /Users/ioannis/research/projects/LSLGA/NLSA/8/1/173/PGC2461793/PGC2461793-pipeline-image-grz.jpg /Users/ioannis/research/projects/LSLGA/NLSA/8/0/92/PGC033311/PGC033311-pipeline-image-grz.jpg /Users/ioannis/research/projects/LSLGA/NLSA/8/0/94/PGC032180/PGC032180-pipeline-image-grz.jpg /Users/ioannis/research/projects/LSLGA/NLSA/8/1/116/1511p620-2106/1511p620-2106-pipeline-image-grz.jpg /Users/ioannis/research/projects/LSLGA/NLSA/8/0/93/1740p555-1524/1740p555-1524-pipeline-image-grz.jpg /Users/ioannis/research/projects/LSLGA/NLSA/8/1/169/1964p400-2551/1964p400-2551-pipeline-image-grz.jpg /Users/ioannis/research/projects/LSLGA/NLSA/8/0/86/2MASXJ10400579+4225232/2MASXJ10400579+4225232-pipeline-image-grz.jpg /Users/ioannis/research/projects/LSLGA/NLSA/8/0/86/PGC2246362/PGC2246362-pipeline-image-grz.jpg /Users/ioannis/research/projects/LSLGA/NLSA/8/0/87/PGC035918/PGC035918-pipeline-image-grz.jpg /Users/ioannis/research/projects/LSLGA/NLSA/8/0/86/PGC2256601/PGC2256601-pipeline-image-grz.jpg /Users/ioannis/research/projects/LSLGA/NLSA/8/0/95/1767p600-790/1767p600-790-pipeline-image-grz.jpg /Users/ioannis/research/projects/LSLGA/NLSA/8/0/92/1642p490-2883/1642p490-2883-pipeline-image-grz.jpg /Users/ioannis/research/projects/LSLGA/NLSA/8/1/170/1892p420-3040/1892p420-3040-pipeline-image-grz.jpg /Users/ioannis/research/projects/LSLGA/NLSA/8/0/87/PGC2332150/PGC2332150-pipeline-image-grz.jpg /Users/ioannis/research/projects/LSLGA/NLSA/8/0/91/1469p470-2310/1469p470-2310-pipeline-image-grz.jpg /Users/ioannis/research/projects/LSLGA/NLSA/8/1/173/PGC2448877/PGC2448877-pipeline-image-grz.jpg /Users/ioannis/research/projects/LSLGA/NLSA/8/0/95/1644p597-3882/1644p597-3882-pipeline-image-grz.jpg /Users/ioannis/research/projects/LSLGA/NLSA/8/0/91/1499p462-2983/1499p462-2983-pipeline-image-grz.jpg /Users/ioannis/research/projects/LSLGA/NLSA/8/0/86/1640p405-3200/1640p405-3200-pipeline-image-grz.jpg /Users/ioannis/research/projects/LSLGA/NLSA/8/1/171/1818p527-2166/1818p527-2166-pipeline-image-grz.jpg /Users/ioannis/research/projects/LSLGA/NLSA/8/0/85/1705p412-3463/1705p412-3463-pipeline-image-grz.jpg /Users/ioannis/research/projects/LSLGA/NLSA/8/1/171/1862p515-884/1862p515-884-pipeline-image-grz.jpg /Users/ioannis/research/projects/LSLGA/NLSA/8/0/84/1679p407-2252/1679p407-2252-pipeline-image-grz.jpg /Users/ioannis/research/projects/LSLGA/science/proposals/nasa-adap-2019/sample-montage.png\n",
      "Writing /Users/ioannis/research/projects/LSLGA/science/proposals/nasa-adap-2019/sample-montage.png\n"
     ]
    }
   ],
   "source": [
    "sample_montage()"
   ]
  },
  {
   "cell_type": "code",
   "execution_count": null,
   "metadata": {},
   "outputs": [],
   "source": [
    "stop"
   ]
  },
  {
   "cell_type": "code",
   "execution_count": null,
   "metadata": {},
   "outputs": [],
   "source": [
    "def qa_rmag_sb(cat, frac=None, png=None):\n",
    "    \"\"\"Surface brightness vs r-band magnitude.\n",
    "    \n",
    "    \"\"\"\n",
    "    xlim, ylim = (12, 20), (28, 17)\n",
    "    #xlim, ylim = (12, 22), (18, 28)\n",
    "    rmag, sb, reff = cat['rmag'], cat['sb'], cat['reff']\n",
    "    \n",
    "    print('Hack to remove sources that hit their optimization limit.')\n",
    "    for factor in (0.788, 0.7999, 0.763, 0.813):\n",
    "        rcut = 64*0.262*factor\n",
    "        toss = (reff > rcut-0.01) * (reff < rcut+0.01)\n",
    "        print(rcut, np.sum(toss))\n",
    "        rmag, sb, reff = rmag[~toss], sb[~toss], reff[~toss]\n",
    "\n",
    "    if frac:\n",
    "        nn = np.round(len(rmag) * frac).astype(int)\n",
    "        sel = rand.choice(len(rmag), nn, replace=False)\n",
    "        print('Subselecting {} objects.'.format(nn))\n",
    "        rmag = rmag[sel]\n",
    "        sb = sb[sel]\n",
    "    \n",
    "    fig, ax = plt.subplots(figsize=(8, 6))\n",
    "    corner.hist2d(rmag, sb, levels=[0.01, 0.05, 0.25, 0.5, 0.75, 0.95, 0.99],\n",
    "                  bins=100, smooth=True, color='tan', # mpl.cm.get_cmap('viridis'),\n",
    "                  plot_density=True, fill_contours=True,\n",
    "                  data_kwargs={'color': 'navy', 'alpha': 0.2, 'ms': 3},\n",
    "                  contour_kwargs={'colors': 'k'}\n",
    "                 )\n",
    "           \n",
    "    # overplot lines of constant size\n",
    "    magarr = np.linspace(xlim[0], xlim[1], 50)\n",
    "    for size, xpos, ypos in zip((0.3, 1, 3, 10, 30, 100),\n",
    "                                (None, None, None, 12.2, 12.2, 12.2),\n",
    "                                (18.0, 18.0, 18.0, None, None, None)):\n",
    "        sbarr = magarr + 2.5 * np.log10(2 * np.pi * size**2)\n",
    "        ax.plot(magarr, sbarr, color='k', lw=2, ls='--', alpha=0.8)\n",
    "        \n",
    "        if ypos:\n",
    "            xpos = ypos - 2.5 * np.log10(2 * np.pi * size**2)\n",
    "        if xpos:\n",
    "            ypos = xpos + 2.5 * np.log10(2 * np.pi * size**2)\n",
    "            \n",
    "        ax.text(xpos, ypos, r'$r_{{50}}={0:g}^{{\\prime\\prime}}$'.format(size), \n",
    "                ha='left', va='center', rotation=-30, fontsize=16, alpha=1.0)\n",
    "\n",
    "    check = np.where( (cat['sb'] > cat['rmag']+2.5*np.log10(2*np.pi*10**2)) * (cat['rmag'] < 18) )[0]\n",
    "    print(len(check), len(cat))\n",
    "    #ax.scatter(cat['rmag'][check], cat['sb'][check], color='blue', marker='s', s=10)\n",
    "    #for ii, cc in enumerate(check[:30]):\n",
    "    #    print('gal{}'.format(ii), cat['ra'][cc], cat['dec'][cc], cat['reff'][cc], \n",
    "    #          cat['rmag'][cc], cat['type'][cc], cat['brightblob'][cc] & 0x2)\n",
    "    \n",
    "    lgal = cat['ref_cat'] == 'L2'\n",
    "    #ax.scatter(cat['rmag'][lgal], cat['sb'][lgal], marker='s', edgecolors='k', s=30, \n",
    "    #           alpha=0.5, lw=1, color='firebrick')\n",
    "    \n",
    "    ingc = np.where(['NGC' in gg or 'UGC' in gg for gg in cat['galaxy']])[0]\n",
    "    #ax.scatter(cat['rmag'][ingc], cat['sb'][ingc], marker='s', edgecolors='k', s=30, \n",
    "    #           alpha=0.5, lw=1, color='firebrick')\n",
    "    \n",
    "    ingc = np.where(['NGC' in gg for gg in cat['galaxy']])[0]\n",
    "    #print(cat[ingc])\n",
    "    #for ii in ingc:\n",
    "    #    ax.text(cat['rmag'][ii], cat['sb'][ii], cat['galaxy'][ii], \n",
    "    #            ha='left', va='bottom', fontsize=20)\n",
    "    \n",
    "    # labels and all that\n",
    "    ax.set_xlim(xlim)\n",
    "    ax.set_ylim(ylim)\n",
    "    #ax.xmargins(0)\n",
    "    ax.set_xlabel(r'$m_{r}$ (AB mag)')\n",
    "    ax.set_ylabel(r'$\\mu_{50,r}$ (AB mag arcsec$^{-2}$)')\n",
    "    \n",
    "    fig.subplots_adjust(bottom=0.15, top=0.95, right=0.95)\n",
    "    \n",
    "    if png:\n",
    "        pngfile = os.path.join(adapdir, png)\n",
    "        print('Writing {}'.format(pngfile))\n",
    "        fig.savefig(pngfile)"
   ]
  },
  {
   "cell_type": "code",
   "execution_count": null,
   "metadata": {},
   "outputs": [],
   "source": [
    "qa_rmag_sb(cat, png='sb-mag.png', frac=0.5)"
   ]
  },
  {
   "cell_type": "code",
   "execution_count": null,
   "metadata": {},
   "outputs": [],
   "source": [
    "stop"
   ]
  },
  {
   "cell_type": "code",
   "execution_count": null,
   "metadata": {},
   "outputs": [],
   "source": [
    "stop"
   ]
  },
  {
   "cell_type": "code",
   "execution_count": null,
   "metadata": {},
   "outputs": [],
   "source": [
    "#_ = plt.hist(cat['reff'], bins=100, range=(12, 14))\n",
    "#plt.xlabel('fracdev*rdev + (1-fracdev)*rexp [arcsec]')\n",
    "#plt.ylabel('Number')\n",
    "#plt.axvline(x=64*0.788*0.262, color='k')\n",
    "#plt.axvline(x=64*0.7999*0.262, color='k')\n",
    "#plt.axvline(x=64*0.763*0.262, color='k')\n",
    "#plt.axvline(x=64*0.813*0.262, color='k')\n",
    "#cat[cat['reff'].argmax()]"
   ]
  },
  {
   "cell_type": "code",
   "execution_count": null,
   "metadata": {},
   "outputs": [],
   "source": [
    "_ = plt.hist(cat['sb'], bins=100)"
   ]
  },
  {
   "cell_type": "code",
   "execution_count": null,
   "metadata": {},
   "outputs": [],
   "source": [
    "def multiwavelength_montage():\n",
    "    montagefile = os.path.join(adapdir, 'multiwavelength-montage.png')\n",
    "\n",
    "    ss = LSLGA.NLSA.read_nlsa_parent(proposal=True)\n",
    "    gal, galdir = LSLGA.NLSA.get_galaxy_galaxydir(ss)\n",
    "    infiles = []\n",
    "    for bands in ('image-FUVNUV', 'pipeline-image-grz', 'image-W1W2'):\n",
    "        for gal1, galdir1 in zip(gal, galdir):\n",
    "            infiles.append(os.path.join(galdir1, '{}-{}.jpg'.format(gal1, bands)))\n",
    "    ncol = 4\n",
    "    nrow = 3\n",
    "    \n",
    "    cmd = 'montage -bordercolor white -borderwidth 1 -tile {}x{} -geometry 512x512 '.format(ncol, nrow)\n",
    "    cmd = cmd+' '.join([inff for inff in infiles])\n",
    "    cmd = cmd+' {}'.format(montagefile)\n",
    "    print(cmd)\n",
    "    os.system(cmd)        \n",
    "    print('Writing {}'.format(montagefile))"
   ]
  },
  {
   "cell_type": "code",
   "execution_count": null,
   "metadata": {},
   "outputs": [],
   "source": [
    "multiwavelength_montage()"
   ]
  },
  {
   "cell_type": "code",
   "execution_count": null,
   "metadata": {},
   "outputs": [],
   "source": [
    "stop"
   ]
  },
  {
   "cell_type": "code",
   "execution_count": null,
   "metadata": {},
   "outputs": [],
   "source": [
    "ww = allcat['FLUX_R'] > 10**(0.4*(22.5-23))\n",
    "_ = plt.hist(22.5-2.5*np.log10(allcat['FLUX_R'][ww]), bins=20, normed=True)\n",
    "_ = plt.hist(22.5-2.5*np.log10(lslgacat['FLUX_R']), bins=20, normed=True)"
   ]
  }
 ],
 "metadata": {
  "kernelspec": {
   "display_name": "Python 3",
   "language": "python",
   "name": "python3"
  },
  "language_info": {
   "codemirror_mode": {
    "name": "ipython",
    "version": 3
   },
   "file_extension": ".py",
   "mimetype": "text/x-python",
   "name": "python",
   "nbconvert_exporter": "python",
   "pygments_lexer": "ipython3",
   "version": "3.6.7"
  }
 },
 "nbformat": 4,
 "nbformat_minor": 2
}
